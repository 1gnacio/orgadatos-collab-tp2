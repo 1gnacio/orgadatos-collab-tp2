{
  "nbformat": 4,
  "nbformat_minor": 0,
  "metadata": {
    "colab": {
      "name": "TP2.ipynb",
      "provenance": [],
      "collapsed_sections": [],
      "toc_visible": true,
      "include_colab_link": true
    },
    "kernelspec": {
      "name": "python3",
      "display_name": "Python 3"
    },
    "language_info": {
      "name": "python"
    }
  },
  "cells": [
    {
      "cell_type": "markdown",
      "metadata": {
        "id": "view-in-github",
        "colab_type": "text"
      },
      "source": [
        "<a href=\"https://colab.research.google.com/github/1gnacio/orgadatos-collab-tp2/blob/ignacio-tp2-punto1-hastanaivebayes/TP2.ipynb\" target=\"_parent\"><img src=\"https://colab.research.google.com/assets/colab-badge.svg\" alt=\"Open In Colab\"/></a>"
      ]
    },
    {
      "cell_type": "markdown",
      "source": [
        "# Trabajo Práctico 2 : NLP + Árboles de Decisión\n",
        "\n",
        "Fecha máxima de entrega: *Lunes 30 de mayo.*\n",
        "\n",
        "---\n",
        "\n"
      ],
      "metadata": {
        "id": "nGkzcZ6z52H8"
      }
    },
    {
      "cell_type": "code",
      "source": [
        "import pandas as pd\n",
        "import numpy as np\n",
        "import seaborn as sns\n",
        "import matplotlib.pyplot as plt\n",
        "import scipy.stats as st"
      ],
      "metadata": {
        "id": "Yf3tBJPx9osJ"
      },
      "execution_count": 96,
      "outputs": []
    },
    {
      "cell_type": "markdown",
      "source": [
        "## Parte 1 - Análisis de sentimientos\n",
        "\n",
        "En esta primera parte se trabajará sobre un conjunto de datos de comercio electrónico de ropa de mujer que contiene reseñas escritas por los clientes. El objetivo es realizar un análisis de sentimientos para clasificar las reseñas como positivas o negativas.\n"
      ],
      "metadata": {
        "id": "BvZJejdl7YeY"
      }
    },
    {
      "cell_type": "markdown",
      "source": [
        "### 1. Exploración, preprocesamiento y transformación de datos\n",
        "\n",
        "a. Realizar Exploración de datos, describiendo las características de los mismos. \n",
        "\n",
        "b. Realizar las tareas de limpieza y transformación de datos que sean necesarias.\n",
        "\n",
        "c. Construir la variable objetivo considerando al atributo Rating de la siguiente forma:\n",
        " * Negativo: 1-2-3\n",
        " * Positivo: 4-5\n"
      ],
      "metadata": {
        "id": "CC4FyqRO8jvj"
      }
    },
    {
      "cell_type": "markdown",
      "source": [
        "#### Exploración del dataset"
      ],
      "metadata": {
        "id": "CqqHkzbFL9JV"
      }
    },
    {
      "cell_type": "code",
      "source": [
        "from google.colab import drive\n",
        "drive.mount('/content/drive')"
      ],
      "metadata": {
        "colab": {
          "base_uri": "https://localhost:8080/"
        },
        "id": "KwdOFeCrxXG9",
        "outputId": "969f7644-6eb3-4a80-cac8-ad1dc1eb93a2"
      },
      "execution_count": 97,
      "outputs": [
        {
          "output_type": "stream",
          "name": "stdout",
          "text": [
            "Drive already mounted at /content/drive; to attempt to forcibly remount, call drive.mount(\"/content/drive\", force_remount=True).\n"
          ]
        }
      ]
    },
    {
      "cell_type": "code",
      "source": [
        "#data = pd.read_csv('/content/drive/MyDrive/Organización de datos/Material/Womens Clothing E-Commerce Reviews.csv')\n",
        "import io\n",
        "#data = pd.read_csv(io.BytesIO(uploaded['Womens Clothing E-Commerce Reviews.csv']))\n",
        "data = pd.read_csv('/content/drive/MyDrive/Recursos TP2/Womens Clothing E-Commerce Reviews.csv')\n",
        "data"
      ],
      "metadata": {
        "colab": {
          "base_uri": "https://localhost:8080/",
          "height": 1000
        },
        "id": "yN7NBrb-8u10",
        "outputId": "7ffb1266-e2b0-4e43-d41b-d1d61e25ebc7"
      },
      "execution_count": 98,
      "outputs": [
        {
          "output_type": "execute_result",
          "data": {
            "text/plain": [
              "       Unnamed: 0  Clothing ID  Age  \\\n",
              "0               0          767   33   \n",
              "1               1         1080   34   \n",
              "2               2         1077   60   \n",
              "3               3         1049   50   \n",
              "4               4          847   47   \n",
              "...           ...          ...  ...   \n",
              "23481       23481         1104   34   \n",
              "23482       23482          862   48   \n",
              "23483       23483         1104   31   \n",
              "23484       23484         1084   28   \n",
              "23485       23485         1104   52   \n",
              "\n",
              "                                                   Title  \\\n",
              "0                                                    NaN   \n",
              "1                                                    NaN   \n",
              "2                                Some major design flaws   \n",
              "3                                       My favorite buy!   \n",
              "4                                       Flattering shirt   \n",
              "...                                                  ...   \n",
              "23481                     Great dress for many occasions   \n",
              "23482                         Wish it was made of cotton   \n",
              "23483                              Cute, but see through   \n",
              "23484  Very cute dress, perfect for summer parties an...   \n",
              "23485                    Please make more like this one!   \n",
              "\n",
              "                                             Review Text  Rating  \\\n",
              "0      Absolutely wonderful - silky and sexy and comf...       4   \n",
              "1      Love this dress!  it's sooo pretty.  i happene...       5   \n",
              "2      I had such high hopes for this dress and reall...       3   \n",
              "3      I love, love, love this jumpsuit. it's fun, fl...       5   \n",
              "4      This shirt is very flattering to all due to th...       5   \n",
              "...                                                  ...     ...   \n",
              "23481  I was very happy to snag this dress at such a ...       5   \n",
              "23482  It reminds me of maternity clothes. soft, stre...       3   \n",
              "23483  This fit well, but the top was very see throug...       3   \n",
              "23484  I bought this dress for a wedding i have this ...       3   \n",
              "23485  This dress in a lovely platinum is feminine an...       5   \n",
              "\n",
              "       Recommended IND  Positive Feedback Count   Division Name  \\\n",
              "0                    1                        0       Initmates   \n",
              "1                    1                        4         General   \n",
              "2                    0                        0         General   \n",
              "3                    1                        0  General Petite   \n",
              "4                    1                        6         General   \n",
              "...                ...                      ...             ...   \n",
              "23481                1                        0  General Petite   \n",
              "23482                1                        0  General Petite   \n",
              "23483                0                        1  General Petite   \n",
              "23484                1                        2         General   \n",
              "23485                1                       22  General Petite   \n",
              "\n",
              "      Department Name Class Name  \n",
              "0            Intimate  Intimates  \n",
              "1             Dresses    Dresses  \n",
              "2             Dresses    Dresses  \n",
              "3             Bottoms      Pants  \n",
              "4                Tops    Blouses  \n",
              "...               ...        ...  \n",
              "23481         Dresses    Dresses  \n",
              "23482            Tops      Knits  \n",
              "23483         Dresses    Dresses  \n",
              "23484         Dresses    Dresses  \n",
              "23485         Dresses    Dresses  \n",
              "\n",
              "[23486 rows x 11 columns]"
            ],
            "text/html": [
              "\n",
              "  <div id=\"df-35529a99-3cf9-4d20-845d-56d803375cd3\">\n",
              "    <div class=\"colab-df-container\">\n",
              "      <div>\n",
              "<style scoped>\n",
              "    .dataframe tbody tr th:only-of-type {\n",
              "        vertical-align: middle;\n",
              "    }\n",
              "\n",
              "    .dataframe tbody tr th {\n",
              "        vertical-align: top;\n",
              "    }\n",
              "\n",
              "    .dataframe thead th {\n",
              "        text-align: right;\n",
              "    }\n",
              "</style>\n",
              "<table border=\"1\" class=\"dataframe\">\n",
              "  <thead>\n",
              "    <tr style=\"text-align: right;\">\n",
              "      <th></th>\n",
              "      <th>Unnamed: 0</th>\n",
              "      <th>Clothing ID</th>\n",
              "      <th>Age</th>\n",
              "      <th>Title</th>\n",
              "      <th>Review Text</th>\n",
              "      <th>Rating</th>\n",
              "      <th>Recommended IND</th>\n",
              "      <th>Positive Feedback Count</th>\n",
              "      <th>Division Name</th>\n",
              "      <th>Department Name</th>\n",
              "      <th>Class Name</th>\n",
              "    </tr>\n",
              "  </thead>\n",
              "  <tbody>\n",
              "    <tr>\n",
              "      <th>0</th>\n",
              "      <td>0</td>\n",
              "      <td>767</td>\n",
              "      <td>33</td>\n",
              "      <td>NaN</td>\n",
              "      <td>Absolutely wonderful - silky and sexy and comf...</td>\n",
              "      <td>4</td>\n",
              "      <td>1</td>\n",
              "      <td>0</td>\n",
              "      <td>Initmates</td>\n",
              "      <td>Intimate</td>\n",
              "      <td>Intimates</td>\n",
              "    </tr>\n",
              "    <tr>\n",
              "      <th>1</th>\n",
              "      <td>1</td>\n",
              "      <td>1080</td>\n",
              "      <td>34</td>\n",
              "      <td>NaN</td>\n",
              "      <td>Love this dress!  it's sooo pretty.  i happene...</td>\n",
              "      <td>5</td>\n",
              "      <td>1</td>\n",
              "      <td>4</td>\n",
              "      <td>General</td>\n",
              "      <td>Dresses</td>\n",
              "      <td>Dresses</td>\n",
              "    </tr>\n",
              "    <tr>\n",
              "      <th>2</th>\n",
              "      <td>2</td>\n",
              "      <td>1077</td>\n",
              "      <td>60</td>\n",
              "      <td>Some major design flaws</td>\n",
              "      <td>I had such high hopes for this dress and reall...</td>\n",
              "      <td>3</td>\n",
              "      <td>0</td>\n",
              "      <td>0</td>\n",
              "      <td>General</td>\n",
              "      <td>Dresses</td>\n",
              "      <td>Dresses</td>\n",
              "    </tr>\n",
              "    <tr>\n",
              "      <th>3</th>\n",
              "      <td>3</td>\n",
              "      <td>1049</td>\n",
              "      <td>50</td>\n",
              "      <td>My favorite buy!</td>\n",
              "      <td>I love, love, love this jumpsuit. it's fun, fl...</td>\n",
              "      <td>5</td>\n",
              "      <td>1</td>\n",
              "      <td>0</td>\n",
              "      <td>General Petite</td>\n",
              "      <td>Bottoms</td>\n",
              "      <td>Pants</td>\n",
              "    </tr>\n",
              "    <tr>\n",
              "      <th>4</th>\n",
              "      <td>4</td>\n",
              "      <td>847</td>\n",
              "      <td>47</td>\n",
              "      <td>Flattering shirt</td>\n",
              "      <td>This shirt is very flattering to all due to th...</td>\n",
              "      <td>5</td>\n",
              "      <td>1</td>\n",
              "      <td>6</td>\n",
              "      <td>General</td>\n",
              "      <td>Tops</td>\n",
              "      <td>Blouses</td>\n",
              "    </tr>\n",
              "    <tr>\n",
              "      <th>...</th>\n",
              "      <td>...</td>\n",
              "      <td>...</td>\n",
              "      <td>...</td>\n",
              "      <td>...</td>\n",
              "      <td>...</td>\n",
              "      <td>...</td>\n",
              "      <td>...</td>\n",
              "      <td>...</td>\n",
              "      <td>...</td>\n",
              "      <td>...</td>\n",
              "      <td>...</td>\n",
              "    </tr>\n",
              "    <tr>\n",
              "      <th>23481</th>\n",
              "      <td>23481</td>\n",
              "      <td>1104</td>\n",
              "      <td>34</td>\n",
              "      <td>Great dress for many occasions</td>\n",
              "      <td>I was very happy to snag this dress at such a ...</td>\n",
              "      <td>5</td>\n",
              "      <td>1</td>\n",
              "      <td>0</td>\n",
              "      <td>General Petite</td>\n",
              "      <td>Dresses</td>\n",
              "      <td>Dresses</td>\n",
              "    </tr>\n",
              "    <tr>\n",
              "      <th>23482</th>\n",
              "      <td>23482</td>\n",
              "      <td>862</td>\n",
              "      <td>48</td>\n",
              "      <td>Wish it was made of cotton</td>\n",
              "      <td>It reminds me of maternity clothes. soft, stre...</td>\n",
              "      <td>3</td>\n",
              "      <td>1</td>\n",
              "      <td>0</td>\n",
              "      <td>General Petite</td>\n",
              "      <td>Tops</td>\n",
              "      <td>Knits</td>\n",
              "    </tr>\n",
              "    <tr>\n",
              "      <th>23483</th>\n",
              "      <td>23483</td>\n",
              "      <td>1104</td>\n",
              "      <td>31</td>\n",
              "      <td>Cute, but see through</td>\n",
              "      <td>This fit well, but the top was very see throug...</td>\n",
              "      <td>3</td>\n",
              "      <td>0</td>\n",
              "      <td>1</td>\n",
              "      <td>General Petite</td>\n",
              "      <td>Dresses</td>\n",
              "      <td>Dresses</td>\n",
              "    </tr>\n",
              "    <tr>\n",
              "      <th>23484</th>\n",
              "      <td>23484</td>\n",
              "      <td>1084</td>\n",
              "      <td>28</td>\n",
              "      <td>Very cute dress, perfect for summer parties an...</td>\n",
              "      <td>I bought this dress for a wedding i have this ...</td>\n",
              "      <td>3</td>\n",
              "      <td>1</td>\n",
              "      <td>2</td>\n",
              "      <td>General</td>\n",
              "      <td>Dresses</td>\n",
              "      <td>Dresses</td>\n",
              "    </tr>\n",
              "    <tr>\n",
              "      <th>23485</th>\n",
              "      <td>23485</td>\n",
              "      <td>1104</td>\n",
              "      <td>52</td>\n",
              "      <td>Please make more like this one!</td>\n",
              "      <td>This dress in a lovely platinum is feminine an...</td>\n",
              "      <td>5</td>\n",
              "      <td>1</td>\n",
              "      <td>22</td>\n",
              "      <td>General Petite</td>\n",
              "      <td>Dresses</td>\n",
              "      <td>Dresses</td>\n",
              "    </tr>\n",
              "  </tbody>\n",
              "</table>\n",
              "<p>23486 rows × 11 columns</p>\n",
              "</div>\n",
              "      <button class=\"colab-df-convert\" onclick=\"convertToInteractive('df-35529a99-3cf9-4d20-845d-56d803375cd3')\"\n",
              "              title=\"Convert this dataframe to an interactive table.\"\n",
              "              style=\"display:none;\">\n",
              "        \n",
              "  <svg xmlns=\"http://www.w3.org/2000/svg\" height=\"24px\"viewBox=\"0 0 24 24\"\n",
              "       width=\"24px\">\n",
              "    <path d=\"M0 0h24v24H0V0z\" fill=\"none\"/>\n",
              "    <path d=\"M18.56 5.44l.94 2.06.94-2.06 2.06-.94-2.06-.94-.94-2.06-.94 2.06-2.06.94zm-11 1L8.5 8.5l.94-2.06 2.06-.94-2.06-.94L8.5 2.5l-.94 2.06-2.06.94zm10 10l.94 2.06.94-2.06 2.06-.94-2.06-.94-.94-2.06-.94 2.06-2.06.94z\"/><path d=\"M17.41 7.96l-1.37-1.37c-.4-.4-.92-.59-1.43-.59-.52 0-1.04.2-1.43.59L10.3 9.45l-7.72 7.72c-.78.78-.78 2.05 0 2.83L4 21.41c.39.39.9.59 1.41.59.51 0 1.02-.2 1.41-.59l7.78-7.78 2.81-2.81c.8-.78.8-2.07 0-2.86zM5.41 20L4 18.59l7.72-7.72 1.47 1.35L5.41 20z\"/>\n",
              "  </svg>\n",
              "      </button>\n",
              "      \n",
              "  <style>\n",
              "    .colab-df-container {\n",
              "      display:flex;\n",
              "      flex-wrap:wrap;\n",
              "      gap: 12px;\n",
              "    }\n",
              "\n",
              "    .colab-df-convert {\n",
              "      background-color: #E8F0FE;\n",
              "      border: none;\n",
              "      border-radius: 50%;\n",
              "      cursor: pointer;\n",
              "      display: none;\n",
              "      fill: #1967D2;\n",
              "      height: 32px;\n",
              "      padding: 0 0 0 0;\n",
              "      width: 32px;\n",
              "    }\n",
              "\n",
              "    .colab-df-convert:hover {\n",
              "      background-color: #E2EBFA;\n",
              "      box-shadow: 0px 1px 2px rgba(60, 64, 67, 0.3), 0px 1px 3px 1px rgba(60, 64, 67, 0.15);\n",
              "      fill: #174EA6;\n",
              "    }\n",
              "\n",
              "    [theme=dark] .colab-df-convert {\n",
              "      background-color: #3B4455;\n",
              "      fill: #D2E3FC;\n",
              "    }\n",
              "\n",
              "    [theme=dark] .colab-df-convert:hover {\n",
              "      background-color: #434B5C;\n",
              "      box-shadow: 0px 1px 3px 1px rgba(0, 0, 0, 0.15);\n",
              "      filter: drop-shadow(0px 1px 2px rgba(0, 0, 0, 0.3));\n",
              "      fill: #FFFFFF;\n",
              "    }\n",
              "  </style>\n",
              "\n",
              "      <script>\n",
              "        const buttonEl =\n",
              "          document.querySelector('#df-35529a99-3cf9-4d20-845d-56d803375cd3 button.colab-df-convert');\n",
              "        buttonEl.style.display =\n",
              "          google.colab.kernel.accessAllowed ? 'block' : 'none';\n",
              "\n",
              "        async function convertToInteractive(key) {\n",
              "          const element = document.querySelector('#df-35529a99-3cf9-4d20-845d-56d803375cd3');\n",
              "          const dataTable =\n",
              "            await google.colab.kernel.invokeFunction('convertToInteractive',\n",
              "                                                     [key], {});\n",
              "          if (!dataTable) return;\n",
              "\n",
              "          const docLinkHtml = 'Like what you see? Visit the ' +\n",
              "            '<a target=\"_blank\" href=https://colab.research.google.com/notebooks/data_table.ipynb>data table notebook</a>'\n",
              "            + ' to learn more about interactive tables.';\n",
              "          element.innerHTML = '';\n",
              "          dataTable['output_type'] = 'display_data';\n",
              "          await google.colab.output.renderOutput(dataTable, element);\n",
              "          const docLink = document.createElement('div');\n",
              "          docLink.innerHTML = docLinkHtml;\n",
              "          element.appendChild(docLink);\n",
              "        }\n",
              "      </script>\n",
              "    </div>\n",
              "  </div>\n",
              "  "
            ]
          },
          "metadata": {},
          "execution_count": 98
        }
      ]
    },
    {
      "cell_type": "markdown",
      "source": [
        "Como hay una columna que duplica los índices la eliminamos."
      ],
      "metadata": {
        "id": "08FaEEPA-sca"
      }
    },
    {
      "cell_type": "code",
      "source": [
        "data.drop(columns=['Unnamed: 0'], inplace=True)\n",
        "data"
      ],
      "metadata": {
        "colab": {
          "base_uri": "https://localhost:8080/",
          "height": 867
        },
        "id": "H8_8kWY_-3F5",
        "outputId": "8482ecae-0280-4666-c650-64eccdfeb673"
      },
      "execution_count": 99,
      "outputs": [
        {
          "output_type": "execute_result",
          "data": {
            "text/plain": [
              "       Clothing ID  Age                                              Title  \\\n",
              "0              767   33                                                NaN   \n",
              "1             1080   34                                                NaN   \n",
              "2             1077   60                            Some major design flaws   \n",
              "3             1049   50                                   My favorite buy!   \n",
              "4              847   47                                   Flattering shirt   \n",
              "...            ...  ...                                                ...   \n",
              "23481         1104   34                     Great dress for many occasions   \n",
              "23482          862   48                         Wish it was made of cotton   \n",
              "23483         1104   31                              Cute, but see through   \n",
              "23484         1084   28  Very cute dress, perfect for summer parties an...   \n",
              "23485         1104   52                    Please make more like this one!   \n",
              "\n",
              "                                             Review Text  Rating  \\\n",
              "0      Absolutely wonderful - silky and sexy and comf...       4   \n",
              "1      Love this dress!  it's sooo pretty.  i happene...       5   \n",
              "2      I had such high hopes for this dress and reall...       3   \n",
              "3      I love, love, love this jumpsuit. it's fun, fl...       5   \n",
              "4      This shirt is very flattering to all due to th...       5   \n",
              "...                                                  ...     ...   \n",
              "23481  I was very happy to snag this dress at such a ...       5   \n",
              "23482  It reminds me of maternity clothes. soft, stre...       3   \n",
              "23483  This fit well, but the top was very see throug...       3   \n",
              "23484  I bought this dress for a wedding i have this ...       3   \n",
              "23485  This dress in a lovely platinum is feminine an...       5   \n",
              "\n",
              "       Recommended IND  Positive Feedback Count   Division Name  \\\n",
              "0                    1                        0       Initmates   \n",
              "1                    1                        4         General   \n",
              "2                    0                        0         General   \n",
              "3                    1                        0  General Petite   \n",
              "4                    1                        6         General   \n",
              "...                ...                      ...             ...   \n",
              "23481                1                        0  General Petite   \n",
              "23482                1                        0  General Petite   \n",
              "23483                0                        1  General Petite   \n",
              "23484                1                        2         General   \n",
              "23485                1                       22  General Petite   \n",
              "\n",
              "      Department Name Class Name  \n",
              "0            Intimate  Intimates  \n",
              "1             Dresses    Dresses  \n",
              "2             Dresses    Dresses  \n",
              "3             Bottoms      Pants  \n",
              "4                Tops    Blouses  \n",
              "...               ...        ...  \n",
              "23481         Dresses    Dresses  \n",
              "23482            Tops      Knits  \n",
              "23483         Dresses    Dresses  \n",
              "23484         Dresses    Dresses  \n",
              "23485         Dresses    Dresses  \n",
              "\n",
              "[23486 rows x 10 columns]"
            ],
            "text/html": [
              "\n",
              "  <div id=\"df-046bbef4-789c-45ae-b219-dd043a48481f\">\n",
              "    <div class=\"colab-df-container\">\n",
              "      <div>\n",
              "<style scoped>\n",
              "    .dataframe tbody tr th:only-of-type {\n",
              "        vertical-align: middle;\n",
              "    }\n",
              "\n",
              "    .dataframe tbody tr th {\n",
              "        vertical-align: top;\n",
              "    }\n",
              "\n",
              "    .dataframe thead th {\n",
              "        text-align: right;\n",
              "    }\n",
              "</style>\n",
              "<table border=\"1\" class=\"dataframe\">\n",
              "  <thead>\n",
              "    <tr style=\"text-align: right;\">\n",
              "      <th></th>\n",
              "      <th>Clothing ID</th>\n",
              "      <th>Age</th>\n",
              "      <th>Title</th>\n",
              "      <th>Review Text</th>\n",
              "      <th>Rating</th>\n",
              "      <th>Recommended IND</th>\n",
              "      <th>Positive Feedback Count</th>\n",
              "      <th>Division Name</th>\n",
              "      <th>Department Name</th>\n",
              "      <th>Class Name</th>\n",
              "    </tr>\n",
              "  </thead>\n",
              "  <tbody>\n",
              "    <tr>\n",
              "      <th>0</th>\n",
              "      <td>767</td>\n",
              "      <td>33</td>\n",
              "      <td>NaN</td>\n",
              "      <td>Absolutely wonderful - silky and sexy and comf...</td>\n",
              "      <td>4</td>\n",
              "      <td>1</td>\n",
              "      <td>0</td>\n",
              "      <td>Initmates</td>\n",
              "      <td>Intimate</td>\n",
              "      <td>Intimates</td>\n",
              "    </tr>\n",
              "    <tr>\n",
              "      <th>1</th>\n",
              "      <td>1080</td>\n",
              "      <td>34</td>\n",
              "      <td>NaN</td>\n",
              "      <td>Love this dress!  it's sooo pretty.  i happene...</td>\n",
              "      <td>5</td>\n",
              "      <td>1</td>\n",
              "      <td>4</td>\n",
              "      <td>General</td>\n",
              "      <td>Dresses</td>\n",
              "      <td>Dresses</td>\n",
              "    </tr>\n",
              "    <tr>\n",
              "      <th>2</th>\n",
              "      <td>1077</td>\n",
              "      <td>60</td>\n",
              "      <td>Some major design flaws</td>\n",
              "      <td>I had such high hopes for this dress and reall...</td>\n",
              "      <td>3</td>\n",
              "      <td>0</td>\n",
              "      <td>0</td>\n",
              "      <td>General</td>\n",
              "      <td>Dresses</td>\n",
              "      <td>Dresses</td>\n",
              "    </tr>\n",
              "    <tr>\n",
              "      <th>3</th>\n",
              "      <td>1049</td>\n",
              "      <td>50</td>\n",
              "      <td>My favorite buy!</td>\n",
              "      <td>I love, love, love this jumpsuit. it's fun, fl...</td>\n",
              "      <td>5</td>\n",
              "      <td>1</td>\n",
              "      <td>0</td>\n",
              "      <td>General Petite</td>\n",
              "      <td>Bottoms</td>\n",
              "      <td>Pants</td>\n",
              "    </tr>\n",
              "    <tr>\n",
              "      <th>4</th>\n",
              "      <td>847</td>\n",
              "      <td>47</td>\n",
              "      <td>Flattering shirt</td>\n",
              "      <td>This shirt is very flattering to all due to th...</td>\n",
              "      <td>5</td>\n",
              "      <td>1</td>\n",
              "      <td>6</td>\n",
              "      <td>General</td>\n",
              "      <td>Tops</td>\n",
              "      <td>Blouses</td>\n",
              "    </tr>\n",
              "    <tr>\n",
              "      <th>...</th>\n",
              "      <td>...</td>\n",
              "      <td>...</td>\n",
              "      <td>...</td>\n",
              "      <td>...</td>\n",
              "      <td>...</td>\n",
              "      <td>...</td>\n",
              "      <td>...</td>\n",
              "      <td>...</td>\n",
              "      <td>...</td>\n",
              "      <td>...</td>\n",
              "    </tr>\n",
              "    <tr>\n",
              "      <th>23481</th>\n",
              "      <td>1104</td>\n",
              "      <td>34</td>\n",
              "      <td>Great dress for many occasions</td>\n",
              "      <td>I was very happy to snag this dress at such a ...</td>\n",
              "      <td>5</td>\n",
              "      <td>1</td>\n",
              "      <td>0</td>\n",
              "      <td>General Petite</td>\n",
              "      <td>Dresses</td>\n",
              "      <td>Dresses</td>\n",
              "    </tr>\n",
              "    <tr>\n",
              "      <th>23482</th>\n",
              "      <td>862</td>\n",
              "      <td>48</td>\n",
              "      <td>Wish it was made of cotton</td>\n",
              "      <td>It reminds me of maternity clothes. soft, stre...</td>\n",
              "      <td>3</td>\n",
              "      <td>1</td>\n",
              "      <td>0</td>\n",
              "      <td>General Petite</td>\n",
              "      <td>Tops</td>\n",
              "      <td>Knits</td>\n",
              "    </tr>\n",
              "    <tr>\n",
              "      <th>23483</th>\n",
              "      <td>1104</td>\n",
              "      <td>31</td>\n",
              "      <td>Cute, but see through</td>\n",
              "      <td>This fit well, but the top was very see throug...</td>\n",
              "      <td>3</td>\n",
              "      <td>0</td>\n",
              "      <td>1</td>\n",
              "      <td>General Petite</td>\n",
              "      <td>Dresses</td>\n",
              "      <td>Dresses</td>\n",
              "    </tr>\n",
              "    <tr>\n",
              "      <th>23484</th>\n",
              "      <td>1084</td>\n",
              "      <td>28</td>\n",
              "      <td>Very cute dress, perfect for summer parties an...</td>\n",
              "      <td>I bought this dress for a wedding i have this ...</td>\n",
              "      <td>3</td>\n",
              "      <td>1</td>\n",
              "      <td>2</td>\n",
              "      <td>General</td>\n",
              "      <td>Dresses</td>\n",
              "      <td>Dresses</td>\n",
              "    </tr>\n",
              "    <tr>\n",
              "      <th>23485</th>\n",
              "      <td>1104</td>\n",
              "      <td>52</td>\n",
              "      <td>Please make more like this one!</td>\n",
              "      <td>This dress in a lovely platinum is feminine an...</td>\n",
              "      <td>5</td>\n",
              "      <td>1</td>\n",
              "      <td>22</td>\n",
              "      <td>General Petite</td>\n",
              "      <td>Dresses</td>\n",
              "      <td>Dresses</td>\n",
              "    </tr>\n",
              "  </tbody>\n",
              "</table>\n",
              "<p>23486 rows × 10 columns</p>\n",
              "</div>\n",
              "      <button class=\"colab-df-convert\" onclick=\"convertToInteractive('df-046bbef4-789c-45ae-b219-dd043a48481f')\"\n",
              "              title=\"Convert this dataframe to an interactive table.\"\n",
              "              style=\"display:none;\">\n",
              "        \n",
              "  <svg xmlns=\"http://www.w3.org/2000/svg\" height=\"24px\"viewBox=\"0 0 24 24\"\n",
              "       width=\"24px\">\n",
              "    <path d=\"M0 0h24v24H0V0z\" fill=\"none\"/>\n",
              "    <path d=\"M18.56 5.44l.94 2.06.94-2.06 2.06-.94-2.06-.94-.94-2.06-.94 2.06-2.06.94zm-11 1L8.5 8.5l.94-2.06 2.06-.94-2.06-.94L8.5 2.5l-.94 2.06-2.06.94zm10 10l.94 2.06.94-2.06 2.06-.94-2.06-.94-.94-2.06-.94 2.06-2.06.94z\"/><path d=\"M17.41 7.96l-1.37-1.37c-.4-.4-.92-.59-1.43-.59-.52 0-1.04.2-1.43.59L10.3 9.45l-7.72 7.72c-.78.78-.78 2.05 0 2.83L4 21.41c.39.39.9.59 1.41.59.51 0 1.02-.2 1.41-.59l7.78-7.78 2.81-2.81c.8-.78.8-2.07 0-2.86zM5.41 20L4 18.59l7.72-7.72 1.47 1.35L5.41 20z\"/>\n",
              "  </svg>\n",
              "      </button>\n",
              "      \n",
              "  <style>\n",
              "    .colab-df-container {\n",
              "      display:flex;\n",
              "      flex-wrap:wrap;\n",
              "      gap: 12px;\n",
              "    }\n",
              "\n",
              "    .colab-df-convert {\n",
              "      background-color: #E8F0FE;\n",
              "      border: none;\n",
              "      border-radius: 50%;\n",
              "      cursor: pointer;\n",
              "      display: none;\n",
              "      fill: #1967D2;\n",
              "      height: 32px;\n",
              "      padding: 0 0 0 0;\n",
              "      width: 32px;\n",
              "    }\n",
              "\n",
              "    .colab-df-convert:hover {\n",
              "      background-color: #E2EBFA;\n",
              "      box-shadow: 0px 1px 2px rgba(60, 64, 67, 0.3), 0px 1px 3px 1px rgba(60, 64, 67, 0.15);\n",
              "      fill: #174EA6;\n",
              "    }\n",
              "\n",
              "    [theme=dark] .colab-df-convert {\n",
              "      background-color: #3B4455;\n",
              "      fill: #D2E3FC;\n",
              "    }\n",
              "\n",
              "    [theme=dark] .colab-df-convert:hover {\n",
              "      background-color: #434B5C;\n",
              "      box-shadow: 0px 1px 3px 1px rgba(0, 0, 0, 0.15);\n",
              "      filter: drop-shadow(0px 1px 2px rgba(0, 0, 0, 0.3));\n",
              "      fill: #FFFFFF;\n",
              "    }\n",
              "  </style>\n",
              "\n",
              "      <script>\n",
              "        const buttonEl =\n",
              "          document.querySelector('#df-046bbef4-789c-45ae-b219-dd043a48481f button.colab-df-convert');\n",
              "        buttonEl.style.display =\n",
              "          google.colab.kernel.accessAllowed ? 'block' : 'none';\n",
              "\n",
              "        async function convertToInteractive(key) {\n",
              "          const element = document.querySelector('#df-046bbef4-789c-45ae-b219-dd043a48481f');\n",
              "          const dataTable =\n",
              "            await google.colab.kernel.invokeFunction('convertToInteractive',\n",
              "                                                     [key], {});\n",
              "          if (!dataTable) return;\n",
              "\n",
              "          const docLinkHtml = 'Like what you see? Visit the ' +\n",
              "            '<a target=\"_blank\" href=https://colab.research.google.com/notebooks/data_table.ipynb>data table notebook</a>'\n",
              "            + ' to learn more about interactive tables.';\n",
              "          element.innerHTML = '';\n",
              "          dataTable['output_type'] = 'display_data';\n",
              "          await google.colab.output.renderOutput(dataTable, element);\n",
              "          const docLink = document.createElement('div');\n",
              "          docLink.innerHTML = docLinkHtml;\n",
              "          element.appendChild(docLink);\n",
              "        }\n",
              "      </script>\n",
              "    </div>\n",
              "  </div>\n",
              "  "
            ]
          },
          "metadata": {},
          "execution_count": 99
        }
      ]
    },
    {
      "cell_type": "markdown",
      "source": [
        "Este dataset tiene 10 variables distintas, en donde cada fila presenta una crítica (positiva o negativa) a una prenda de ropa.\n",
        "\n",
        "| _Variable_              \t| _Tipo_                \t| _Descripción_                                                   \t|\n",
        "|-------------------------\t|-----------------------\t|-----------------------------------------------------------------\t|\n",
        "| Clothing ID             \t|                       \t| ID de la prenda                                                 \t|\n",
        "| Age                     \t| Cuantitativa continua \t| Edad de la persona que hace la crítica                          \t|\n",
        "| Title                   \t| Cualitativa nominal   \t| Título de la crítica                                            \t|\n",
        "| Review Text             \t| Cualitativa           \t| Texto de la crítica                                             \t|\n",
        "| Rating                  \t| Cuantitativa discreta \t| Puntuación de 1 a 5                                             \t|\n",
        "| Recommended IND         \t| Cualitativa binaria   \t|                                                                 \t|\n",
        "| Positive Feedback Count \t| Cuantitativa discreta \t|                                                                 \t|\n",
        "| Division Name           \t| Cualitativa nominal   \t| División a la que pertenece la prenda                           \t|\n",
        "| Department Name         \t| Cualitativa nominal   \t| Departamento (dentro de la división) al que pertenece la prenda \t|\n",
        "| Class Name              \t| Cualitativa nominal   \t| Clase (dentro del departamento) a la que pertenece la prenda    \t|"
      ],
      "metadata": {
        "id": "mPM_Vp2Y_rdN"
      }
    },
    {
      "cell_type": "markdown",
      "source": [
        "Sobre las variables cualitativas, vemos para _Division Name_ y _Department Name_ la cantidad de registros sobre cada una."
      ],
      "metadata": {
        "id": "XpFuv9EMD-7u"
      }
    },
    {
      "cell_type": "code",
      "source": [
        "colores = sns.color_palette(\"inferno_r\", 3)\n",
        "data['Division Name'].value_counts().plot.bar(alpha=0.9,color=colores, figsize=(15,8), title='Cantidad de registros por División')\n",
        "plt.show()"
      ],
      "metadata": {
        "colab": {
          "base_uri": "https://localhost:8080/",
          "height": 560
        },
        "id": "lcACeS3mE7zM",
        "outputId": "e721261c-9f41-4140-d979-a7816f0f7961"
      },
      "execution_count": 100,
      "outputs": [
        {
          "output_type": "display_data",
          "data": {
            "text/plain": [
              "<Figure size 1080x576 with 1 Axes>"
            ],
            "image/png": "[encoded data removed]"
          },
          "metadata": {
            "needs_background": "light"
          }
        }
      ]
    },
    {
      "cell_type": "code",
      "source": [
        "fig, axarr=plt.subplots(nrows=1, ncols=3, figsize=(15, 8))\n",
        "data[data['Division Name']=='General']['Department Name'].value_counts().plot.bar(title='General', color=sns.color_palette(\"inferno_r\", 5), ax=axarr[0])\n",
        "data[data['Division Name']=='General Petite']['Department Name'].value_counts().plot.bar(title='General Petite', color=sns.color_palette(\"inferno_r\", 6), ax=axarr[1])\n",
        "data[data['Division Name']=='Initmates']['Department Name'].value_counts().plot.bar(title='Initmates', color=sns.color_palette(\"inferno_r\", 1), ax=axarr[2])\n",
        "plt.show()"
      ],
      "metadata": {
        "colab": {
          "base_uri": "https://localhost:8080/",
          "height": 531
        },
        "id": "7oCvkG2qI-s_",
        "outputId": "2569f741-44e4-425e-8963-04cbb3f05c54"
      },
      "execution_count": 101,
      "outputs": [
        {
          "output_type": "display_data",
          "data": {
            "text/plain": [
              "<Figure size 1080x576 with 3 Axes>"
            ],
            "image/png": "[encoded data removed]"
          },
          "metadata": {
            "needs_background": "light"
          }
        }
      ]
    },
    {
      "cell_type": "markdown",
      "source": [
        "Respecto a _Class Name_ hacemos una suma de la cantidad de apariciones agrupado por departamento y división."
      ],
      "metadata": {
        "id": "A5fafW90MFwA"
      }
    },
    {
      "cell_type": "code",
      "source": [
        "data.groupby(['Division Name', 'Department Name'])['Class Name'].value_counts()"
      ],
      "metadata": {
        "colab": {
          "base_uri": "https://localhost:8080/"
        },
        "id": "fBavFvD1Mfpb",
        "outputId": "0639740f-777c-4c28-cf07-a6f0aec4c09a"
      },
      "execution_count": 102,
      "outputs": [
        {
          "output_type": "execute_result",
          "data": {
            "text/plain": [
              "Division Name   Department Name  Class Name    \n",
              "General         Bottoms          Pants              835\n",
              "                                 Jeans              787\n",
              "                                 Skirts             601\n",
              "                                 Shorts             317\n",
              "                                 Casual bottoms       2\n",
              "                Dresses          Dresses           3730\n",
              "                Jackets          Jackets            397\n",
              "                                 Outerwear          248\n",
              "                Tops             Knits             3259\n",
              "                                 Blouses           1993\n",
              "                                 Sweaters           900\n",
              "                                 Fine gauge         685\n",
              "                Trend            Trend               96\n",
              "General Petite  Bottoms          Pants              553\n",
              "                                 Jeans              360\n",
              "                                 Skirts             344\n",
              "                Dresses          Dresses           2589\n",
              "                Intimate         Lounge             233\n",
              "                Jackets          Jackets            307\n",
              "                                 Outerwear           80\n",
              "                Tops             Knits             1584\n",
              "                                 Blouses           1104\n",
              "                                 Sweaters           528\n",
              "                                 Fine gauge         415\n",
              "                Trend            Trend               23\n",
              "Initmates       Intimate         Lounge             458\n",
              "                                 Swim               350\n",
              "                                 Sleep              228\n",
              "                                 Legwear            165\n",
              "                                 Intimates          154\n",
              "                                 Layering           146\n",
              "                                 Chemises             1\n",
              "Name: Class Name, dtype: int64"
            ]
          },
          "metadata": {},
          "execution_count": 102
        }
      ]
    },
    {
      "cell_type": "markdown",
      "source": [
        "Para las variables cuantitavivas realizamos un histograma para la variable _Age_ y uno gráfico de barras para _Rating_."
      ],
      "metadata": {
        "id": "6eGmlhIKOEN1"
      }
    },
    {
      "cell_type": "code",
      "source": [
        "data['Age'].plot.hist(bins=20, figsize=(15,8), color=['#BA3655'])\n",
        "plt.show()"
      ],
      "metadata": {
        "colab": {
          "base_uri": "https://localhost:8080/",
          "height": 483
        },
        "id": "TdbG-ZcJOfTo",
        "outputId": "de125a5d-04a5-4a06-f614-ecf8e8d06251"
      },
      "execution_count": 103,
      "outputs": [
        {
          "output_type": "display_data",
          "data": {
            "text/plain": [
              "<Figure size 1080x576 with 1 Axes>"
            ],
            "image/png": "[encoded data removed]"
          },
          "metadata": {
            "needs_background": "light"
          }
        }
      ]
    },
    {
      "cell_type": "code",
      "source": [
        "ax = data['Clothing ID'].value_counts().sort_values(ascending=False).head(5).plot.bar(figsize=(15,8), color=['#FF336A'])\n",
        "ax.set_title('Top 5 prendas con mas reviews')\n",
        "plt.show()"
      ],
      "metadata": {
        "colab": {
          "base_uri": "https://localhost:8080/",
          "height": 514
        },
        "id": "oe_JPm9uP5LZ",
        "outputId": "1eb258f2-4568-4c5c-c91e-ee352816142d"
      },
      "execution_count": 104,
      "outputs": [
        {
          "output_type": "display_data",
          "data": {
            "text/plain": [
              "<Figure size 1080x576 with 1 Axes>"
            ],
            "image/png": "[encoded data removed]"
          },
          "metadata": {
            "needs_background": "light"
          }
        }
      ]
    },
    {
      "cell_type": "markdown",
      "source": [
        "#### Limpieza y transformación"
      ],
      "metadata": {
        "id": "rBDvk9lKNZUU"
      }
    },
    {
      "cell_type": "markdown",
      "source": [
        "##### Comenzamos por las variables cuantitativas\n",
        "\n"
      ],
      "metadata": {
        "id": "GYv6mljMNw8q"
      }
    },
    {
      "cell_type": "markdown",
      "source": [
        "Vemos la cantidad de valores nulos (NaN) en el dataset."
      ],
      "metadata": {
        "id": "ZvppKuyKCsbl"
      }
    },
    {
      "cell_type": "code",
      "source": [
        "data.isna().sum()"
      ],
      "metadata": {
        "colab": {
          "base_uri": "https://localhost:8080/"
        },
        "id": "81WJmm3M_O3l",
        "outputId": "3f59d087-ef23-494b-fb32-8b40f34610bd"
      },
      "execution_count": 105,
      "outputs": [
        {
          "output_type": "execute_result",
          "data": {
            "text/plain": [
              "Clothing ID                   0\n",
              "Age                           0\n",
              "Title                      3810\n",
              "Review Text                 845\n",
              "Rating                        0\n",
              "Recommended IND               0\n",
              "Positive Feedback Count       0\n",
              "Division Name                14\n",
              "Department Name              14\n",
              "Class Name                   14\n",
              "dtype: int64"
            ]
          },
          "metadata": {},
          "execution_count": 105
        }
      ]
    },
    {
      "cell_type": "markdown",
      "source": [
        "Para éste tipo de variable no hay datos nulos, revisamos que no haya datos nulos (distintos de NaN, como 0 por ejemplo) u outliers. Para eso vemos las medidas de resumen de las variables cuantitativas del dataset."
      ],
      "metadata": {
        "id": "lUkKgv9VN7-8"
      }
    },
    {
      "cell_type": "code",
      "source": [
        "cuantitativas = data[['Age', 'Rating', 'Positive Feedback Count']]\n",
        "cuantitativas.describe()"
      ],
      "metadata": {
        "colab": {
          "base_uri": "https://localhost:8080/",
          "height": 300
        },
        "id": "j1OWSruIDL12",
        "outputId": "4090a6f9-41c5-4050-b9ea-59fb5e6cb65b"
      },
      "execution_count": 106,
      "outputs": [
        {
          "output_type": "execute_result",
          "data": {
            "text/plain": [
              "                Age        Rating  Positive Feedback Count\n",
              "count  23486.000000  23486.000000             23486.000000\n",
              "mean      43.198544      4.196032                 2.535936\n",
              "std       12.279544      1.110031                 5.702202\n",
              "min       18.000000      1.000000                 0.000000\n",
              "25%       34.000000      4.000000                 0.000000\n",
              "50%       41.000000      5.000000                 1.000000\n",
              "75%       52.000000      5.000000                 3.000000\n",
              "max       99.000000      5.000000               122.000000"
            ],
            "text/html": [
              "\n",
              "  <div id=\"df-ef0d7205-e9ed-422b-8df0-3db49fe1c1df\">\n",
              "    <div class=\"colab-df-container\">\n",
              "      <div>\n",
              "<style scoped>\n",
              "    .dataframe tbody tr th:only-of-type {\n",
              "        vertical-align: middle;\n",
              "    }\n",
              "\n",
              "    .dataframe tbody tr th {\n",
              "        vertical-align: top;\n",
              "    }\n",
              "\n",
              "    .dataframe thead th {\n",
              "        text-align: right;\n",
              "    }\n",
              "</style>\n",
              "<table border=\"1\" class=\"dataframe\">\n",
              "  <thead>\n",
              "    <tr style=\"text-align: right;\">\n",
              "      <th></th>\n",
              "      <th>Age</th>\n",
              "      <th>Rating</th>\n",
              "      <th>Positive Feedback Count</th>\n",
              "    </tr>\n",
              "  </thead>\n",
              "  <tbody>\n",
              "    <tr>\n",
              "      <th>count</th>\n",
              "      <td>23486.000000</td>\n",
              "      <td>23486.000000</td>\n",
              "      <td>23486.000000</td>\n",
              "    </tr>\n",
              "    <tr>\n",
              "      <th>mean</th>\n",
              "      <td>43.198544</td>\n",
              "      <td>4.196032</td>\n",
              "      <td>2.535936</td>\n",
              "    </tr>\n",
              "    <tr>\n",
              "      <th>std</th>\n",
              "      <td>12.279544</td>\n",
              "      <td>1.110031</td>\n",
              "      <td>5.702202</td>\n",
              "    </tr>\n",
              "    <tr>\n",
              "      <th>min</th>\n",
              "      <td>18.000000</td>\n",
              "      <td>1.000000</td>\n",
              "      <td>0.000000</td>\n",
              "    </tr>\n",
              "    <tr>\n",
              "      <th>25%</th>\n",
              "      <td>34.000000</td>\n",
              "      <td>4.000000</td>\n",
              "      <td>0.000000</td>\n",
              "    </tr>\n",
              "    <tr>\n",
              "      <th>50%</th>\n",
              "      <td>41.000000</td>\n",
              "      <td>5.000000</td>\n",
              "      <td>1.000000</td>\n",
              "    </tr>\n",
              "    <tr>\n",
              "      <th>75%</th>\n",
              "      <td>52.000000</td>\n",
              "      <td>5.000000</td>\n",
              "      <td>3.000000</td>\n",
              "    </tr>\n",
              "    <tr>\n",
              "      <th>max</th>\n",
              "      <td>99.000000</td>\n",
              "      <td>5.000000</td>\n",
              "      <td>122.000000</td>\n",
              "    </tr>\n",
              "  </tbody>\n",
              "</table>\n",
              "</div>\n",
              "      <button class=\"colab-df-convert\" onclick=\"convertToInteractive('df-ef0d7205-e9ed-422b-8df0-3db49fe1c1df')\"\n",
              "              title=\"Convert this dataframe to an interactive table.\"\n",
              "              style=\"display:none;\">\n",
              "        \n",
              "  <svg xmlns=\"http://www.w3.org/2000/svg\" height=\"24px\"viewBox=\"0 0 24 24\"\n",
              "       width=\"24px\">\n",
              "    <path d=\"M0 0h24v24H0V0z\" fill=\"none\"/>\n",
              "    <path d=\"M18.56 5.44l.94 2.06.94-2.06 2.06-.94-2.06-.94-.94-2.06-.94 2.06-2.06.94zm-11 1L8.5 8.5l.94-2.06 2.06-.94-2.06-.94L8.5 2.5l-.94 2.06-2.06.94zm10 10l.94 2.06.94-2.06 2.06-.94-2.06-.94-.94-2.06-.94 2.06-2.06.94z\"/><path d=\"M17.41 7.96l-1.37-1.37c-.4-.4-.92-.59-1.43-.59-.52 0-1.04.2-1.43.59L10.3 9.45l-7.72 7.72c-.78.78-.78 2.05 0 2.83L4 21.41c.39.39.9.59 1.41.59.51 0 1.02-.2 1.41-.59l7.78-7.78 2.81-2.81c.8-.78.8-2.07 0-2.86zM5.41 20L4 18.59l7.72-7.72 1.47 1.35L5.41 20z\"/>\n",
              "  </svg>\n",
              "      </button>\n",
              "      \n",
              "  <style>\n",
              "    .colab-df-container {\n",
              "      display:flex;\n",
              "      flex-wrap:wrap;\n",
              "      gap: 12px;\n",
              "    }\n",
              "\n",
              "    .colab-df-convert {\n",
              "      background-color: #E8F0FE;\n",
              "      border: none;\n",
              "      border-radius: 50%;\n",
              "      cursor: pointer;\n",
              "      display: none;\n",
              "      fill: #1967D2;\n",
              "      height: 32px;\n",
              "      padding: 0 0 0 0;\n",
              "      width: 32px;\n",
              "    }\n",
              "\n",
              "    .colab-df-convert:hover {\n",
              "      background-color: #E2EBFA;\n",
              "      box-shadow: 0px 1px 2px rgba(60, 64, 67, 0.3), 0px 1px 3px 1px rgba(60, 64, 67, 0.15);\n",
              "      fill: #174EA6;\n",
              "    }\n",
              "\n",
              "    [theme=dark] .colab-df-convert {\n",
              "      background-color: #3B4455;\n",
              "      fill: #D2E3FC;\n",
              "    }\n",
              "\n",
              "    [theme=dark] .colab-df-convert:hover {\n",
              "      background-color: #434B5C;\n",
              "      box-shadow: 0px 1px 3px 1px rgba(0, 0, 0, 0.15);\n",
              "      filter: drop-shadow(0px 1px 2px rgba(0, 0, 0, 0.3));\n",
              "      fill: #FFFFFF;\n",
              "    }\n",
              "  </style>\n",
              "\n",
              "      <script>\n",
              "        const buttonEl =\n",
              "          document.querySelector('#df-ef0d7205-e9ed-422b-8df0-3db49fe1c1df button.colab-df-convert');\n",
              "        buttonEl.style.display =\n",
              "          google.colab.kernel.accessAllowed ? 'block' : 'none';\n",
              "\n",
              "        async function convertToInteractive(key) {\n",
              "          const element = document.querySelector('#df-ef0d7205-e9ed-422b-8df0-3db49fe1c1df');\n",
              "          const dataTable =\n",
              "            await google.colab.kernel.invokeFunction('convertToInteractive',\n",
              "                                                     [key], {});\n",
              "          if (!dataTable) return;\n",
              "\n",
              "          const docLinkHtml = 'Like what you see? Visit the ' +\n",
              "            '<a target=\"_blank\" href=https://colab.research.google.com/notebooks/data_table.ipynb>data table notebook</a>'\n",
              "            + ' to learn more about interactive tables.';\n",
              "          element.innerHTML = '';\n",
              "          dataTable['output_type'] = 'display_data';\n",
              "          await google.colab.output.renderOutput(dataTable, element);\n",
              "          const docLink = document.createElement('div');\n",
              "          docLink.innerHTML = docLinkHtml;\n",
              "          element.appendChild(docLink);\n",
              "        }\n",
              "      </script>\n",
              "    </div>\n",
              "  </div>\n",
              "  "
            ]
          },
          "metadata": {},
          "execution_count": 106
        }
      ]
    },
    {
      "cell_type": "markdown",
      "source": [
        "Por el lado de los valores mínimos no se ve nada raro, por el lado de los máximos sí. Para sacar los outliers vamos a realizar un análisis univariado calculando el z_score."
      ],
      "metadata": {
        "id": "cPR0INP3OaMW"
      }
    },
    {
      "cell_type": "code",
      "source": [
        "# z_score edad\n",
        "data['z_Age']=st.zscore(data.Age)\n",
        "\n",
        "# z_score modificado Rating\n",
        "data['z_Rating']=st.zscore(data.Rating)\n",
        "\n",
        "# z_score modificado Positive Feedback Count\n",
        "data.rename(columns={'Positive Feedback Count':'Positive_Feedback_Count'}, inplace=True)\n",
        "data['z_PFC']=st.zscore(data.Positive_Feedback_Count)\n",
        "\n",
        "data[['Age', 'Rating', 'Positive_Feedback_Count', 'z_Age', 'z_Rating', 'z_PFC']]"
      ],
      "metadata": {
        "colab": {
          "base_uri": "https://localhost:8080/",
          "height": 423
        },
        "id": "17pxBKb3QKje",
        "outputId": "20ec63f4-f58c-4909-ba2e-3220f534fe3c"
      },
      "execution_count": 134,
      "outputs": [
        {
          "output_type": "execute_result",
          "data": {
            "text/plain": [
              "       Age  Rating  Positive_Feedback_Count     z_Age  z_Rating     z_PFC\n",
              "0       33       4                        0 -0.834064 -0.164111 -0.454732\n",
              "1       34       5                        4 -0.752947  0.732046  0.236438\n",
              "2       60       3                        0  1.356082 -1.060269 -0.454732\n",
              "3       50       5                        0  0.544917  0.732046 -0.454732\n",
              "4       47       5                        6  0.301567  0.732046  0.582022\n",
              "...    ...     ...                      ...       ...       ...       ...\n",
              "23481   34       5                        0 -0.752947  0.732046 -0.454732\n",
              "23482   48       3                        0  0.382684 -1.060269 -0.454732\n",
              "23483   31       3                        1 -0.996297 -1.060269 -0.281940\n",
              "23484   28       3                        2 -1.239646 -1.060269 -0.109147\n",
              "23485   52       5                       22  0.707150  0.732046  3.346701\n",
              "\n",
              "[22629 rows x 6 columns]"
            ],
            "text/html": [
              "\n",
              "  <div id=\"df-70e00ac1-5454-47de-94a9-77045fe6e10f\">\n",
              "    <div class=\"colab-df-container\">\n",
              "      <div>\n",
              "<style scoped>\n",
              "    .dataframe tbody tr th:only-of-type {\n",
              "        vertical-align: middle;\n",
              "    }\n",
              "\n",
              "    .dataframe tbody tr th {\n",
              "        vertical-align: top;\n",
              "    }\n",
              "\n",
              "    .dataframe thead th {\n",
              "        text-align: right;\n",
              "    }\n",
              "</style>\n",
              "<table border=\"1\" class=\"dataframe\">\n",
              "  <thead>\n",
              "    <tr style=\"text-align: right;\">\n",
              "      <th></th>\n",
              "      <th>Age</th>\n",
              "      <th>Rating</th>\n",
              "      <th>Positive_Feedback_Count</th>\n",
              "      <th>z_Age</th>\n",
              "      <th>z_Rating</th>\n",
              "      <th>z_PFC</th>\n",
              "    </tr>\n",
              "  </thead>\n",
              "  <tbody>\n",
              "    <tr>\n",
              "      <th>0</th>\n",
              "      <td>33</td>\n",
              "      <td>4</td>\n",
              "      <td>0</td>\n",
              "      <td>-0.834064</td>\n",
              "      <td>-0.164111</td>\n",
              "      <td>-0.454732</td>\n",
              "    </tr>\n",
              "    <tr>\n",
              "      <th>1</th>\n",
              "      <td>34</td>\n",
              "      <td>5</td>\n",
              "      <td>4</td>\n",
              "      <td>-0.752947</td>\n",
              "      <td>0.732046</td>\n",
              "      <td>0.236438</td>\n",
              "    </tr>\n",
              "    <tr>\n",
              "      <th>2</th>\n",
              "      <td>60</td>\n",
              "      <td>3</td>\n",
              "      <td>0</td>\n",
              "      <td>1.356082</td>\n",
              "      <td>-1.060269</td>\n",
              "      <td>-0.454732</td>\n",
              "    </tr>\n",
              "    <tr>\n",
              "      <th>3</th>\n",
              "      <td>50</td>\n",
              "      <td>5</td>\n",
              "      <td>0</td>\n",
              "      <td>0.544917</td>\n",
              "      <td>0.732046</td>\n",
              "      <td>-0.454732</td>\n",
              "    </tr>\n",
              "    <tr>\n",
              "      <th>4</th>\n",
              "      <td>47</td>\n",
              "      <td>5</td>\n",
              "      <td>6</td>\n",
              "      <td>0.301567</td>\n",
              "      <td>0.732046</td>\n",
              "      <td>0.582022</td>\n",
              "    </tr>\n",
              "    <tr>\n",
              "      <th>...</th>\n",
              "      <td>...</td>\n",
              "      <td>...</td>\n",
              "      <td>...</td>\n",
              "      <td>...</td>\n",
              "      <td>...</td>\n",
              "      <td>...</td>\n",
              "    </tr>\n",
              "    <tr>\n",
              "      <th>23481</th>\n",
              "      <td>34</td>\n",
              "      <td>5</td>\n",
              "      <td>0</td>\n",
              "      <td>-0.752947</td>\n",
              "      <td>0.732046</td>\n",
              "      <td>-0.454732</td>\n",
              "    </tr>\n",
              "    <tr>\n",
              "      <th>23482</th>\n",
              "      <td>48</td>\n",
              "      <td>3</td>\n",
              "      <td>0</td>\n",
              "      <td>0.382684</td>\n",
              "      <td>-1.060269</td>\n",
              "      <td>-0.454732</td>\n",
              "    </tr>\n",
              "    <tr>\n",
              "      <th>23483</th>\n",
              "      <td>31</td>\n",
              "      <td>3</td>\n",
              "      <td>1</td>\n",
              "      <td>-0.996297</td>\n",
              "      <td>-1.060269</td>\n",
              "      <td>-0.281940</td>\n",
              "    </tr>\n",
              "    <tr>\n",
              "      <th>23484</th>\n",
              "      <td>28</td>\n",
              "      <td>3</td>\n",
              "      <td>2</td>\n",
              "      <td>-1.239646</td>\n",
              "      <td>-1.060269</td>\n",
              "      <td>-0.109147</td>\n",
              "    </tr>\n",
              "    <tr>\n",
              "      <th>23485</th>\n",
              "      <td>52</td>\n",
              "      <td>5</td>\n",
              "      <td>22</td>\n",
              "      <td>0.707150</td>\n",
              "      <td>0.732046</td>\n",
              "      <td>3.346701</td>\n",
              "    </tr>\n",
              "  </tbody>\n",
              "</table>\n",
              "<p>22629 rows × 6 columns</p>\n",
              "</div>\n",
              "      <button class=\"colab-df-convert\" onclick=\"convertToInteractive('df-70e00ac1-5454-47de-94a9-77045fe6e10f')\"\n",
              "              title=\"Convert this dataframe to an interactive table.\"\n",
              "              style=\"display:none;\">\n",
              "        \n",
              "  <svg xmlns=\"http://www.w3.org/2000/svg\" height=\"24px\"viewBox=\"0 0 24 24\"\n",
              "       width=\"24px\">\n",
              "    <path d=\"M0 0h24v24H0V0z\" fill=\"none\"/>\n",
              "    <path d=\"M18.56 5.44l.94 2.06.94-2.06 2.06-.94-2.06-.94-.94-2.06-.94 2.06-2.06.94zm-11 1L8.5 8.5l.94-2.06 2.06-.94-2.06-.94L8.5 2.5l-.94 2.06-2.06.94zm10 10l.94 2.06.94-2.06 2.06-.94-2.06-.94-.94-2.06-.94 2.06-2.06.94z\"/><path d=\"M17.41 7.96l-1.37-1.37c-.4-.4-.92-.59-1.43-.59-.52 0-1.04.2-1.43.59L10.3 9.45l-7.72 7.72c-.78.78-.78 2.05 0 2.83L4 21.41c.39.39.9.59 1.41.59.51 0 1.02-.2 1.41-.59l7.78-7.78 2.81-2.81c.8-.78.8-2.07 0-2.86zM5.41 20L4 18.59l7.72-7.72 1.47 1.35L5.41 20z\"/>\n",
              "  </svg>\n",
              "      </button>\n",
              "      \n",
              "  <style>\n",
              "    .colab-df-container {\n",
              "      display:flex;\n",
              "      flex-wrap:wrap;\n",
              "      gap: 12px;\n",
              "    }\n",
              "\n",
              "    .colab-df-convert {\n",
              "      background-color: #E8F0FE;\n",
              "      border: none;\n",
              "      border-radius: 50%;\n",
              "      cursor: pointer;\n",
              "      display: none;\n",
              "      fill: #1967D2;\n",
              "      height: 32px;\n",
              "      padding: 0 0 0 0;\n",
              "      width: 32px;\n",
              "    }\n",
              "\n",
              "    .colab-df-convert:hover {\n",
              "      background-color: #E2EBFA;\n",
              "      box-shadow: 0px 1px 2px rgba(60, 64, 67, 0.3), 0px 1px 3px 1px rgba(60, 64, 67, 0.15);\n",
              "      fill: #174EA6;\n",
              "    }\n",
              "\n",
              "    [theme=dark] .colab-df-convert {\n",
              "      background-color: #3B4455;\n",
              "      fill: #D2E3FC;\n",
              "    }\n",
              "\n",
              "    [theme=dark] .colab-df-convert:hover {\n",
              "      background-color: #434B5C;\n",
              "      box-shadow: 0px 1px 3px 1px rgba(0, 0, 0, 0.15);\n",
              "      filter: drop-shadow(0px 1px 2px rgba(0, 0, 0, 0.3));\n",
              "      fill: #FFFFFF;\n",
              "    }\n",
              "  </style>\n",
              "\n",
              "      <script>\n",
              "        const buttonEl =\n",
              "          document.querySelector('#df-70e00ac1-5454-47de-94a9-77045fe6e10f button.colab-df-convert');\n",
              "        buttonEl.style.display =\n",
              "          google.colab.kernel.accessAllowed ? 'block' : 'none';\n",
              "\n",
              "        async function convertToInteractive(key) {\n",
              "          const element = document.querySelector('#df-70e00ac1-5454-47de-94a9-77045fe6e10f');\n",
              "          const dataTable =\n",
              "            await google.colab.kernel.invokeFunction('convertToInteractive',\n",
              "                                                     [key], {});\n",
              "          if (!dataTable) return;\n",
              "\n",
              "          const docLinkHtml = 'Like what you see? Visit the ' +\n",
              "            '<a target=\"_blank\" href=https://colab.research.google.com/notebooks/data_table.ipynb>data table notebook</a>'\n",
              "            + ' to learn more about interactive tables.';\n",
              "          element.innerHTML = '';\n",
              "          dataTable['output_type'] = 'display_data';\n",
              "          await google.colab.output.renderOutput(dataTable, element);\n",
              "          const docLink = document.createElement('div');\n",
              "          docLink.innerHTML = docLinkHtml;\n",
              "          element.appendChild(docLink);\n",
              "        }\n",
              "      </script>\n",
              "    </div>\n",
              "  </div>\n",
              "  "
            ]
          },
          "metadata": {},
          "execution_count": 134
        }
      ]
    },
    {
      "cell_type": "code",
      "source": [
        "sns.boxplot(y=data['Age'])"
      ],
      "metadata": {
        "colab": {
          "base_uri": "https://localhost:8080/",
          "height": 270
        },
        "id": "MXCL4QOIO2u6",
        "outputId": "54383ffa-ff86-42f2-b6eb-96e0ce7bf075"
      },
      "execution_count": 108,
      "outputs": [
        {
          "output_type": "execute_result",
          "data": {
            "text/plain": [
              "<matplotlib.axes._subplots.AxesSubplot at 0x7fa8d888ee50>"
            ]
          },
          "metadata": {},
          "execution_count": 108
        },
        {
          "output_type": "display_data",
          "data": {
            "text/plain": [
              "<Figure size 432x288 with 1 Axes>"
            ],
            "image/png": "[encoded data removed]"
          },
          "metadata": {
            "needs_background": "light"
          }
        }
      ]
    },
    {
      "cell_type": "code",
      "source": [
        "sns.boxplot(y=data['Rating'])"
      ],
      "metadata": {
        "colab": {
          "base_uri": "https://localhost:8080/",
          "height": 270
        },
        "id": "0h0sWOZBPp3B",
        "outputId": "628e6e40-7a32-42c7-8634-8f5090f32296"
      },
      "execution_count": 109,
      "outputs": [
        {
          "output_type": "execute_result",
          "data": {
            "text/plain": [
              "<matplotlib.axes._subplots.AxesSubplot at 0x7fa8d880db90>"
            ]
          },
          "metadata": {},
          "execution_count": 109
        },
        {
          "output_type": "display_data",
          "data": {
            "text/plain": [
              "<Figure size 432x288 with 1 Axes>"
            ],
            "image/png": "[encoded data removed]"
          },
          "metadata": {
            "needs_background": "light"
          }
        }
      ]
    },
    {
      "cell_type": "code",
      "source": [
        "data['Rating'].value_counts()"
      ],
      "metadata": {
        "colab": {
          "base_uri": "https://localhost:8080/"
        },
        "id": "LSJN1vYjQKyx",
        "outputId": "86849e3a-c9c4-4761-9933-bee6870679d4"
      },
      "execution_count": 110,
      "outputs": [
        {
          "output_type": "execute_result",
          "data": {
            "text/plain": [
              "5    13131\n",
              "4     5077\n",
              "3     2871\n",
              "2     1565\n",
              "1      842\n",
              "Name: Rating, dtype: int64"
            ]
          },
          "metadata": {},
          "execution_count": 110
        }
      ]
    },
    {
      "cell_type": "code",
      "source": [
        "sns.boxplot(y=data['Positive_Feedback_Count'])"
      ],
      "metadata": {
        "colab": {
          "base_uri": "https://localhost:8080/",
          "height": 270
        },
        "id": "i3lfXiGkQlsh",
        "outputId": "c5e328b3-38fc-4679-a1c1-d1260fd4eb2d"
      },
      "execution_count": 111,
      "outputs": [
        {
          "output_type": "execute_result",
          "data": {
            "text/plain": [
              "<matplotlib.axes._subplots.AxesSubplot at 0x7fa8d87ec810>"
            ]
          },
          "metadata": {},
          "execution_count": 111
        },
        {
          "output_type": "display_data",
          "data": {
            "text/plain": [
              "<Figure size 432x288 with 1 Axes>"
            ],
            "image/png": "[encoded data removed]"
          },
          "metadata": {
            "needs_background": "light"
          }
        }
      ]
    },
    {
      "cell_type": "markdown",
      "source": [
        "Verifico para cada variable que `abs(z_score) < 3`. Revisamos los outliers para cada variable.\n",
        "\n"
      ],
      "metadata": {
        "id": "ZOaqcUglTaL4"
      }
    },
    {
      "cell_type": "code",
      "source": [
        "data[abs(data['z_Age']) >= 3][['Age', 'z_Age']].sort_values(by='z_Age', ascending=False)"
      ],
      "metadata": {
        "colab": {
          "base_uri": "https://localhost:8080/",
          "height": 423
        },
        "id": "zd2takoVUAOT",
        "outputId": "bcbfa231-2cc7-487e-ae13-c07a0e8a116a"
      },
      "execution_count": 141,
      "outputs": [
        {
          "output_type": "execute_result",
          "data": {
            "text/plain": [
              "       Age     z_Age\n",
              "8327    99  4.519626\n",
              "11545   99  4.519626\n",
              "6543    94  4.114043\n",
              "18563   94  4.114043\n",
              "18036   94  4.114043\n",
              "...    ...       ...\n",
              "21719   81  3.059529\n",
              "22085   81  3.059529\n",
              "5469    81  3.059529\n",
              "17611   81  3.059529\n",
              "9437    81  3.059529\n",
              "\n",
              "[98 rows x 2 columns]"
            ],
            "text/html": [
              "\n",
              "  <div id=\"df-994a329f-e0c0-43a7-af5e-90311808025e\">\n",
              "    <div class=\"colab-df-container\">\n",
              "      <div>\n",
              "<style scoped>\n",
              "    .dataframe tbody tr th:only-of-type {\n",
              "        vertical-align: middle;\n",
              "    }\n",
              "\n",
              "    .dataframe tbody tr th {\n",
              "        vertical-align: top;\n",
              "    }\n",
              "\n",
              "    .dataframe thead th {\n",
              "        text-align: right;\n",
              "    }\n",
              "</style>\n",
              "<table border=\"1\" class=\"dataframe\">\n",
              "  <thead>\n",
              "    <tr style=\"text-align: right;\">\n",
              "      <th></th>\n",
              "      <th>Age</th>\n",
              "      <th>z_Age</th>\n",
              "    </tr>\n",
              "  </thead>\n",
              "  <tbody>\n",
              "    <tr>\n",
              "      <th>8327</th>\n",
              "      <td>99</td>\n",
              "      <td>4.519626</td>\n",
              "    </tr>\n",
              "    <tr>\n",
              "      <th>11545</th>\n",
              "      <td>99</td>\n",
              "      <td>4.519626</td>\n",
              "    </tr>\n",
              "    <tr>\n",
              "      <th>6543</th>\n",
              "      <td>94</td>\n",
              "      <td>4.114043</td>\n",
              "    </tr>\n",
              "    <tr>\n",
              "      <th>18563</th>\n",
              "      <td>94</td>\n",
              "      <td>4.114043</td>\n",
              "    </tr>\n",
              "    <tr>\n",
              "      <th>18036</th>\n",
              "      <td>94</td>\n",
              "      <td>4.114043</td>\n",
              "    </tr>\n",
              "    <tr>\n",
              "      <th>...</th>\n",
              "      <td>...</td>\n",
              "      <td>...</td>\n",
              "    </tr>\n",
              "    <tr>\n",
              "      <th>21719</th>\n",
              "      <td>81</td>\n",
              "      <td>3.059529</td>\n",
              "    </tr>\n",
              "    <tr>\n",
              "      <th>22085</th>\n",
              "      <td>81</td>\n",
              "      <td>3.059529</td>\n",
              "    </tr>\n",
              "    <tr>\n",
              "      <th>5469</th>\n",
              "      <td>81</td>\n",
              "      <td>3.059529</td>\n",
              "    </tr>\n",
              "    <tr>\n",
              "      <th>17611</th>\n",
              "      <td>81</td>\n",
              "      <td>3.059529</td>\n",
              "    </tr>\n",
              "    <tr>\n",
              "      <th>9437</th>\n",
              "      <td>81</td>\n",
              "      <td>3.059529</td>\n",
              "    </tr>\n",
              "  </tbody>\n",
              "</table>\n",
              "<p>98 rows × 2 columns</p>\n",
              "</div>\n",
              "      <button class=\"colab-df-convert\" onclick=\"convertToInteractive('df-994a329f-e0c0-43a7-af5e-90311808025e')\"\n",
              "              title=\"Convert this dataframe to an interactive table.\"\n",
              "              style=\"display:none;\">\n",
              "        \n",
              "  <svg xmlns=\"http://www.w3.org/2000/svg\" height=\"24px\"viewBox=\"0 0 24 24\"\n",
              "       width=\"24px\">\n",
              "    <path d=\"M0 0h24v24H0V0z\" fill=\"none\"/>\n",
              "    <path d=\"M18.56 5.44l.94 2.06.94-2.06 2.06-.94-2.06-.94-.94-2.06-.94 2.06-2.06.94zm-11 1L8.5 8.5l.94-2.06 2.06-.94-2.06-.94L8.5 2.5l-.94 2.06-2.06.94zm10 10l.94 2.06.94-2.06 2.06-.94-2.06-.94-.94-2.06-.94 2.06-2.06.94z\"/><path d=\"M17.41 7.96l-1.37-1.37c-.4-.4-.92-.59-1.43-.59-.52 0-1.04.2-1.43.59L10.3 9.45l-7.72 7.72c-.78.78-.78 2.05 0 2.83L4 21.41c.39.39.9.59 1.41.59.51 0 1.02-.2 1.41-.59l7.78-7.78 2.81-2.81c.8-.78.8-2.07 0-2.86zM5.41 20L4 18.59l7.72-7.72 1.47 1.35L5.41 20z\"/>\n",
              "  </svg>\n",
              "      </button>\n",
              "      \n",
              "  <style>\n",
              "    .colab-df-container {\n",
              "      display:flex;\n",
              "      flex-wrap:wrap;\n",
              "      gap: 12px;\n",
              "    }\n",
              "\n",
              "    .colab-df-convert {\n",
              "      background-color: #E8F0FE;\n",
              "      border: none;\n",
              "      border-radius: 50%;\n",
              "      cursor: pointer;\n",
              "      display: none;\n",
              "      fill: #1967D2;\n",
              "      height: 32px;\n",
              "      padding: 0 0 0 0;\n",
              "      width: 32px;\n",
              "    }\n",
              "\n",
              "    .colab-df-convert:hover {\n",
              "      background-color: #E2EBFA;\n",
              "      box-shadow: 0px 1px 2px rgba(60, 64, 67, 0.3), 0px 1px 3px 1px rgba(60, 64, 67, 0.15);\n",
              "      fill: #174EA6;\n",
              "    }\n",
              "\n",
              "    [theme=dark] .colab-df-convert {\n",
              "      background-color: #3B4455;\n",
              "      fill: #D2E3FC;\n",
              "    }\n",
              "\n",
              "    [theme=dark] .colab-df-convert:hover {\n",
              "      background-color: #434B5C;\n",
              "      box-shadow: 0px 1px 3px 1px rgba(0, 0, 0, 0.15);\n",
              "      filter: drop-shadow(0px 1px 2px rgba(0, 0, 0, 0.3));\n",
              "      fill: #FFFFFF;\n",
              "    }\n",
              "  </style>\n",
              "\n",
              "      <script>\n",
              "        const buttonEl =\n",
              "          document.querySelector('#df-994a329f-e0c0-43a7-af5e-90311808025e button.colab-df-convert');\n",
              "        buttonEl.style.display =\n",
              "          google.colab.kernel.accessAllowed ? 'block' : 'none';\n",
              "\n",
              "        async function convertToInteractive(key) {\n",
              "          const element = document.querySelector('#df-994a329f-e0c0-43a7-af5e-90311808025e');\n",
              "          const dataTable =\n",
              "            await google.colab.kernel.invokeFunction('convertToInteractive',\n",
              "                                                     [key], {});\n",
              "          if (!dataTable) return;\n",
              "\n",
              "          const docLinkHtml = 'Like what you see? Visit the ' +\n",
              "            '<a target=\"_blank\" href=https://colab.research.google.com/notebooks/data_table.ipynb>data table notebook</a>'\n",
              "            + ' to learn more about interactive tables.';\n",
              "          element.innerHTML = '';\n",
              "          dataTable['output_type'] = 'display_data';\n",
              "          await google.colab.output.renderOutput(dataTable, element);\n",
              "          const docLink = document.createElement('div');\n",
              "          docLink.innerHTML = docLinkHtml;\n",
              "          element.appendChild(docLink);\n",
              "        }\n",
              "      </script>\n",
              "    </div>\n",
              "  </div>\n",
              "  "
            ]
          },
          "metadata": {},
          "execution_count": 141
        }
      ]
    },
    {
      "cell_type": "code",
      "source": [
        "data[abs(data['z_Rating']) >= 3][['Rating', 'z_Rating']]"
      ],
      "metadata": {
        "colab": {
          "base_uri": "https://localhost:8080/",
          "height": 49
        },
        "id": "NVV_riQjUYLn",
        "outputId": "c1b5898a-5a38-40a1-84e1-a14fb6b24d46"
      },
      "execution_count": 142,
      "outputs": [
        {
          "output_type": "execute_result",
          "data": {
            "text/plain": [
              "Empty DataFrame\n",
              "Columns: [Rating, z_Rating]\n",
              "Index: []"
            ],
            "text/html": [
              "\n",
              "  <div id=\"df-6250e86a-1304-4416-bdbd-c736fcf8b953\">\n",
              "    <div class=\"colab-df-container\">\n",
              "      <div>\n",
              "<style scoped>\n",
              "    .dataframe tbody tr th:only-of-type {\n",
              "        vertical-align: middle;\n",
              "    }\n",
              "\n",
              "    .dataframe tbody tr th {\n",
              "        vertical-align: top;\n",
              "    }\n",
              "\n",
              "    .dataframe thead th {\n",
              "        text-align: right;\n",
              "    }\n",
              "</style>\n",
              "<table border=\"1\" class=\"dataframe\">\n",
              "  <thead>\n",
              "    <tr style=\"text-align: right;\">\n",
              "      <th></th>\n",
              "      <th>Rating</th>\n",
              "      <th>z_Rating</th>\n",
              "    </tr>\n",
              "  </thead>\n",
              "  <tbody>\n",
              "  </tbody>\n",
              "</table>\n",
              "</div>\n",
              "      <button class=\"colab-df-convert\" onclick=\"convertToInteractive('df-6250e86a-1304-4416-bdbd-c736fcf8b953')\"\n",
              "              title=\"Convert this dataframe to an interactive table.\"\n",
              "              style=\"display:none;\">\n",
              "        \n",
              "  <svg xmlns=\"http://www.w3.org/2000/svg\" height=\"24px\"viewBox=\"0 0 24 24\"\n",
              "       width=\"24px\">\n",
              "    <path d=\"M0 0h24v24H0V0z\" fill=\"none\"/>\n",
              "    <path d=\"M18.56 5.44l.94 2.06.94-2.06 2.06-.94-2.06-.94-.94-2.06-.94 2.06-2.06.94zm-11 1L8.5 8.5l.94-2.06 2.06-.94-2.06-.94L8.5 2.5l-.94 2.06-2.06.94zm10 10l.94 2.06.94-2.06 2.06-.94-2.06-.94-.94-2.06-.94 2.06-2.06.94z\"/><path d=\"M17.41 7.96l-1.37-1.37c-.4-.4-.92-.59-1.43-.59-.52 0-1.04.2-1.43.59L10.3 9.45l-7.72 7.72c-.78.78-.78 2.05 0 2.83L4 21.41c.39.39.9.59 1.41.59.51 0 1.02-.2 1.41-.59l7.78-7.78 2.81-2.81c.8-.78.8-2.07 0-2.86zM5.41 20L4 18.59l7.72-7.72 1.47 1.35L5.41 20z\"/>\n",
              "  </svg>\n",
              "      </button>\n",
              "      \n",
              "  <style>\n",
              "    .colab-df-container {\n",
              "      display:flex;\n",
              "      flex-wrap:wrap;\n",
              "      gap: 12px;\n",
              "    }\n",
              "\n",
              "    .colab-df-convert {\n",
              "      background-color: #E8F0FE;\n",
              "      border: none;\n",
              "      border-radius: 50%;\n",
              "      cursor: pointer;\n",
              "      display: none;\n",
              "      fill: #1967D2;\n",
              "      height: 32px;\n",
              "      padding: 0 0 0 0;\n",
              "      width: 32px;\n",
              "    }\n",
              "\n",
              "    .colab-df-convert:hover {\n",
              "      background-color: #E2EBFA;\n",
              "      box-shadow: 0px 1px 2px rgba(60, 64, 67, 0.3), 0px 1px 3px 1px rgba(60, 64, 67, 0.15);\n",
              "      fill: #174EA6;\n",
              "    }\n",
              "\n",
              "    [theme=dark] .colab-df-convert {\n",
              "      background-color: #3B4455;\n",
              "      fill: #D2E3FC;\n",
              "    }\n",
              "\n",
              "    [theme=dark] .colab-df-convert:hover {\n",
              "      background-color: #434B5C;\n",
              "      box-shadow: 0px 1px 3px 1px rgba(0, 0, 0, 0.15);\n",
              "      filter: drop-shadow(0px 1px 2px rgba(0, 0, 0, 0.3));\n",
              "      fill: #FFFFFF;\n",
              "    }\n",
              "  </style>\n",
              "\n",
              "      <script>\n",
              "        const buttonEl =\n",
              "          document.querySelector('#df-6250e86a-1304-4416-bdbd-c736fcf8b953 button.colab-df-convert');\n",
              "        buttonEl.style.display =\n",
              "          google.colab.kernel.accessAllowed ? 'block' : 'none';\n",
              "\n",
              "        async function convertToInteractive(key) {\n",
              "          const element = document.querySelector('#df-6250e86a-1304-4416-bdbd-c736fcf8b953');\n",
              "          const dataTable =\n",
              "            await google.colab.kernel.invokeFunction('convertToInteractive',\n",
              "                                                     [key], {});\n",
              "          if (!dataTable) return;\n",
              "\n",
              "          const docLinkHtml = 'Like what you see? Visit the ' +\n",
              "            '<a target=\"_blank\" href=https://colab.research.google.com/notebooks/data_table.ipynb>data table notebook</a>'\n",
              "            + ' to learn more about interactive tables.';\n",
              "          element.innerHTML = '';\n",
              "          dataTable['output_type'] = 'display_data';\n",
              "          await google.colab.output.renderOutput(dataTable, element);\n",
              "          const docLink = document.createElement('div');\n",
              "          docLink.innerHTML = docLinkHtml;\n",
              "          element.appendChild(docLink);\n",
              "        }\n",
              "      </script>\n",
              "    </div>\n",
              "  </div>\n",
              "  "
            ]
          },
          "metadata": {},
          "execution_count": 142
        }
      ]
    },
    {
      "cell_type": "code",
      "source": [
        "data[abs(data['z_PFC']) >= 3][['Positive_Feedback_Count', 'z_PFC']].sort_values(by='Positive_Feedback_Count', ascending=False)"
      ],
      "metadata": {
        "colab": {
          "base_uri": "https://localhost:8080/",
          "height": 423
        },
        "id": "xwrWsy-cUaro",
        "outputId": "ce99cf72-a353-48d0-af55-4d9c74e987f7"
      },
      "execution_count": 146,
      "outputs": [
        {
          "output_type": "execute_result",
          "data": {
            "text/plain": [
              "       Positive_Feedback_Count      z_PFC\n",
              "7218                       122  20.625945\n",
              "1294                       117  19.761983\n",
              "7765                       108  18.206851\n",
              "19094                       99  16.651719\n",
              "13210                       98  16.478927\n",
              "...                        ...        ...\n",
              "2467                        20   3.001117\n",
              "7630                        20   3.001117\n",
              "13522                       20   3.001117\n",
              "21634                       20   3.001117\n",
              "10336                       20   3.001117\n",
              "\n",
              "[430 rows x 2 columns]"
            ],
            "text/html": [
              "\n",
              "  <div id=\"df-8b8b5273-2b6a-4888-bed8-80595db9d8f3\">\n",
              "    <div class=\"colab-df-container\">\n",
              "      <div>\n",
              "<style scoped>\n",
              "    .dataframe tbody tr th:only-of-type {\n",
              "        vertical-align: middle;\n",
              "    }\n",
              "\n",
              "    .dataframe tbody tr th {\n",
              "        vertical-align: top;\n",
              "    }\n",
              "\n",
              "    .dataframe thead th {\n",
              "        text-align: right;\n",
              "    }\n",
              "</style>\n",
              "<table border=\"1\" class=\"dataframe\">\n",
              "  <thead>\n",
              "    <tr style=\"text-align: right;\">\n",
              "      <th></th>\n",
              "      <th>Positive_Feedback_Count</th>\n",
              "      <th>z_PFC</th>\n",
              "    </tr>\n",
              "  </thead>\n",
              "  <tbody>\n",
              "    <tr>\n",
              "      <th>7218</th>\n",
              "      <td>122</td>\n",
              "      <td>20.625945</td>\n",
              "    </tr>\n",
              "    <tr>\n",
              "      <th>1294</th>\n",
              "      <td>117</td>\n",
              "      <td>19.761983</td>\n",
              "    </tr>\n",
              "    <tr>\n",
              "      <th>7765</th>\n",
              "      <td>108</td>\n",
              "      <td>18.206851</td>\n",
              "    </tr>\n",
              "    <tr>\n",
              "      <th>19094</th>\n",
              "      <td>99</td>\n",
              "      <td>16.651719</td>\n",
              "    </tr>\n",
              "    <tr>\n",
              "      <th>13210</th>\n",
              "      <td>98</td>\n",
              "      <td>16.478927</td>\n",
              "    </tr>\n",
              "    <tr>\n",
              "      <th>...</th>\n",
              "      <td>...</td>\n",
              "      <td>...</td>\n",
              "    </tr>\n",
              "    <tr>\n",
              "      <th>2467</th>\n",
              "      <td>20</td>\n",
              "      <td>3.001117</td>\n",
              "    </tr>\n",
              "    <tr>\n",
              "      <th>7630</th>\n",
              "      <td>20</td>\n",
              "      <td>3.001117</td>\n",
              "    </tr>\n",
              "    <tr>\n",
              "      <th>13522</th>\n",
              "      <td>20</td>\n",
              "      <td>3.001117</td>\n",
              "    </tr>\n",
              "    <tr>\n",
              "      <th>21634</th>\n",
              "      <td>20</td>\n",
              "      <td>3.001117</td>\n",
              "    </tr>\n",
              "    <tr>\n",
              "      <th>10336</th>\n",
              "      <td>20</td>\n",
              "      <td>3.001117</td>\n",
              "    </tr>\n",
              "  </tbody>\n",
              "</table>\n",
              "<p>430 rows × 2 columns</p>\n",
              "</div>\n",
              "      <button class=\"colab-df-convert\" onclick=\"convertToInteractive('df-8b8b5273-2b6a-4888-bed8-80595db9d8f3')\"\n",
              "              title=\"Convert this dataframe to an interactive table.\"\n",
              "              style=\"display:none;\">\n",
              "        \n",
              "  <svg xmlns=\"http://www.w3.org/2000/svg\" height=\"24px\"viewBox=\"0 0 24 24\"\n",
              "       width=\"24px\">\n",
              "    <path d=\"M0 0h24v24H0V0z\" fill=\"none\"/>\n",
              "    <path d=\"M18.56 5.44l.94 2.06.94-2.06 2.06-.94-2.06-.94-.94-2.06-.94 2.06-2.06.94zm-11 1L8.5 8.5l.94-2.06 2.06-.94-2.06-.94L8.5 2.5l-.94 2.06-2.06.94zm10 10l.94 2.06.94-2.06 2.06-.94-2.06-.94-.94-2.06-.94 2.06-2.06.94z\"/><path d=\"M17.41 7.96l-1.37-1.37c-.4-.4-.92-.59-1.43-.59-.52 0-1.04.2-1.43.59L10.3 9.45l-7.72 7.72c-.78.78-.78 2.05 0 2.83L4 21.41c.39.39.9.59 1.41.59.51 0 1.02-.2 1.41-.59l7.78-7.78 2.81-2.81c.8-.78.8-2.07 0-2.86zM5.41 20L4 18.59l7.72-7.72 1.47 1.35L5.41 20z\"/>\n",
              "  </svg>\n",
              "      </button>\n",
              "      \n",
              "  <style>\n",
              "    .colab-df-container {\n",
              "      display:flex;\n",
              "      flex-wrap:wrap;\n",
              "      gap: 12px;\n",
              "    }\n",
              "\n",
              "    .colab-df-convert {\n",
              "      background-color: #E8F0FE;\n",
              "      border: none;\n",
              "      border-radius: 50%;\n",
              "      cursor: pointer;\n",
              "      display: none;\n",
              "      fill: #1967D2;\n",
              "      height: 32px;\n",
              "      padding: 0 0 0 0;\n",
              "      width: 32px;\n",
              "    }\n",
              "\n",
              "    .colab-df-convert:hover {\n",
              "      background-color: #E2EBFA;\n",
              "      box-shadow: 0px 1px 2px rgba(60, 64, 67, 0.3), 0px 1px 3px 1px rgba(60, 64, 67, 0.15);\n",
              "      fill: #174EA6;\n",
              "    }\n",
              "\n",
              "    [theme=dark] .colab-df-convert {\n",
              "      background-color: #3B4455;\n",
              "      fill: #D2E3FC;\n",
              "    }\n",
              "\n",
              "    [theme=dark] .colab-df-convert:hover {\n",
              "      background-color: #434B5C;\n",
              "      box-shadow: 0px 1px 3px 1px rgba(0, 0, 0, 0.15);\n",
              "      filter: drop-shadow(0px 1px 2px rgba(0, 0, 0, 0.3));\n",
              "      fill: #FFFFFF;\n",
              "    }\n",
              "  </style>\n",
              "\n",
              "      <script>\n",
              "        const buttonEl =\n",
              "          document.querySelector('#df-8b8b5273-2b6a-4888-bed8-80595db9d8f3 button.colab-df-convert');\n",
              "        buttonEl.style.display =\n",
              "          google.colab.kernel.accessAllowed ? 'block' : 'none';\n",
              "\n",
              "        async function convertToInteractive(key) {\n",
              "          const element = document.querySelector('#df-8b8b5273-2b6a-4888-bed8-80595db9d8f3');\n",
              "          const dataTable =\n",
              "            await google.colab.kernel.invokeFunction('convertToInteractive',\n",
              "                                                     [key], {});\n",
              "          if (!dataTable) return;\n",
              "\n",
              "          const docLinkHtml = 'Like what you see? Visit the ' +\n",
              "            '<a target=\"_blank\" href=https://colab.research.google.com/notebooks/data_table.ipynb>data table notebook</a>'\n",
              "            + ' to learn more about interactive tables.';\n",
              "          element.innerHTML = '';\n",
              "          dataTable['output_type'] = 'display_data';\n",
              "          await google.colab.output.renderOutput(dataTable, element);\n",
              "          const docLink = document.createElement('div');\n",
              "          docLink.innerHTML = docLinkHtml;\n",
              "          element.appendChild(docLink);\n",
              "        }\n",
              "      </script>\n",
              "    </div>\n",
              "  </div>\n",
              "  "
            ]
          },
          "metadata": {},
          "execution_count": 146
        }
      ]
    },
    {
      "cell_type": "markdown",
      "source": [
        "El dataset en total tiene 23486 registros, de los cuales 529 (como mucho, ya que puede haber algún repetido entre los outliers de _Age_ y _Positive Feedback Count_) son outliers según el cálculo del z_score, lo que representa sólo un 2.25%. Como la edad y el positive feedback no impactan en la validez de la review, los consideramos para el analisis."
      ],
      "metadata": {
        "id": "mdldi8QkUih7"
      }
    },
    {
      "cell_type": "markdown",
      "source": [
        "Finalmente, eliminamos las columnas agregadas."
      ],
      "metadata": {
        "id": "x2pIiuwvZUYP"
      }
    },
    {
      "cell_type": "code",
      "source": [
        "data.drop(columns=['z_Age', 'z_Rating', 'z_PFC'], inplace=True)"
      ],
      "metadata": {
        "id": "kzY2xCj1Y9VS"
      },
      "execution_count": 115,
      "outputs": []
    },
    {
      "cell_type": "markdown",
      "source": [
        "##### Seguimos por las cualitativas"
      ],
      "metadata": {
        "id": "X23l_5bhZ-dv"
      }
    },
    {
      "cell_type": "markdown",
      "source": [
        "Vemos la cantidad de valores nulos (NaN) en el dataset."
      ],
      "metadata": {
        "id": "ediV_jzSaE_D"
      }
    },
    {
      "cell_type": "code",
      "source": [
        "data.isna().sum()"
      ],
      "metadata": {
        "colab": {
          "base_uri": "https://localhost:8080/"
        },
        "outputId": "399d9588-2722-4bd3-98a8-9233e1a84b10",
        "id": "GIzAX69jaE_E"
      },
      "execution_count": 116,
      "outputs": [
        {
          "output_type": "execute_result",
          "data": {
            "text/plain": [
              "Clothing ID                   0\n",
              "Age                           0\n",
              "Title                      3810\n",
              "Review Text                 845\n",
              "Rating                        0\n",
              "Recommended IND               0\n",
              "Positive_Feedback_Count       0\n",
              "Division Name                14\n",
              "Department Name              14\n",
              "Class Name                   14\n",
              "dtype: int64"
            ]
          },
          "metadata": {},
          "execution_count": 116
        }
      ]
    },
    {
      "cell_type": "markdown",
      "source": [
        "Empezamos por llenar la división, departamento y clase."
      ],
      "metadata": {
        "id": "mwQHvRKDauY_"
      }
    },
    {
      "cell_type": "code",
      "source": [
        "data.groupby(['Class Name'])['Department Name'].value_counts()"
      ],
      "metadata": {
        "colab": {
          "base_uri": "https://localhost:8080/"
        },
        "id": "MKX-5edda190",
        "outputId": "1d7fa01f-07f9-4352-a02f-569fb9cfa8a6"
      },
      "execution_count": 117,
      "outputs": [
        {
          "output_type": "execute_result",
          "data": {
            "text/plain": [
              "Class Name      Department Name\n",
              "Blouses         Tops               3097\n",
              "Casual bottoms  Bottoms               2\n",
              "Chemises        Intimate              1\n",
              "Dresses         Dresses            6319\n",
              "Fine gauge      Tops               1100\n",
              "Intimates       Intimate            154\n",
              "Jackets         Jackets             704\n",
              "Jeans           Bottoms            1147\n",
              "Knits           Tops               4843\n",
              "Layering        Intimate            146\n",
              "Legwear         Intimate            165\n",
              "Lounge          Intimate            691\n",
              "Outerwear       Jackets             328\n",
              "Pants           Bottoms            1388\n",
              "Shorts          Bottoms             317\n",
              "Skirts          Bottoms             945\n",
              "Sleep           Intimate            228\n",
              "Sweaters        Tops               1428\n",
              "Swim            Intimate            350\n",
              "Trend           Trend               119\n",
              "Name: Department Name, dtype: int64"
            ]
          },
          "metadata": {},
          "execution_count": 117
        }
      ]
    },
    {
      "cell_type": "code",
      "source": [
        "data.groupby(['Class Name'])['Division Name'].value_counts()"
      ],
      "metadata": {
        "colab": {
          "base_uri": "https://localhost:8080/"
        },
        "id": "albvOx-3R_SI",
        "outputId": "80f37bed-9962-4d96-fa8a-00097b2bf685"
      },
      "execution_count": 118,
      "outputs": [
        {
          "output_type": "execute_result",
          "data": {
            "text/plain": [
              "Class Name      Division Name \n",
              "Blouses         General           1993\n",
              "                General Petite    1104\n",
              "Casual bottoms  General              2\n",
              "Chemises        Initmates            1\n",
              "Dresses         General           3730\n",
              "                General Petite    2589\n",
              "Fine gauge      General            685\n",
              "                General Petite     415\n",
              "Intimates       Initmates          154\n",
              "Jackets         General            397\n",
              "                General Petite     307\n",
              "Jeans           General            787\n",
              "                General Petite     360\n",
              "Knits           General           3259\n",
              "                General Petite    1584\n",
              "Layering        Initmates          146\n",
              "Legwear         Initmates          165\n",
              "Lounge          Initmates          458\n",
              "                General Petite     233\n",
              "Outerwear       General            248\n",
              "                General Petite      80\n",
              "Pants           General            835\n",
              "                General Petite     553\n",
              "Shorts          General            317\n",
              "Skirts          General            601\n",
              "                General Petite     344\n",
              "Sleep           Initmates          228\n",
              "Sweaters        General            900\n",
              "                General Petite     528\n",
              "Swim            Initmates          350\n",
              "Trend           General             96\n",
              "                General Petite      23\n",
              "Name: Division Name, dtype: int64"
            ]
          },
          "metadata": {},
          "execution_count": 118
        }
      ]
    },
    {
      "cell_type": "markdown",
      "source": [
        "En base a esto hacemos un diccionario para llenar los departamentos, ya que no hay repetidos."
      ],
      "metadata": {
        "id": "Xw_qG5QobQFH"
      }
    },
    {
      "cell_type": "code",
      "source": [
        "dict_dep = {'Blouses': 'Tops', 'Casual bottoms': 'Bottoms', 'Chemises': 'Intimate', 'Dresses': 'Dresses', 'Fine gauge': 'Tops', 'Intimates': 'Intimate', \\\n",
        "            'Jackets': 'Jackets', 'Jeans': 'Bottoms', 'Knits': 'Tops', 'Layering': 'Intimate', 'Legwear': 'Intimate', 'Lounge': 'Intimate', 'Outerwear': 'Jackets', \\\n",
        "            'Pants': 'Bottoms', 'Shorts': 'Bottoms', 'Skirts': 'Bottoms', 'Sleep': 'Intimate', 'Sweaters': 'Tops', 'Swim': 'Intimate', 'Trend': 'Trend'}"
      ],
      "metadata": {
        "id": "o3gEgD9ubcOq"
      },
      "execution_count": 119,
      "outputs": []
    },
    {
      "cell_type": "code",
      "source": [
        "dict_dep.keys()"
      ],
      "metadata": {
        "colab": {
          "base_uri": "https://localhost:8080/"
        },
        "id": "p2Mdt4vuWHuA",
        "outputId": "e9d15cbe-4877-4936-818e-eddaa7f0bdc0"
      },
      "execution_count": 120,
      "outputs": [
        {
          "output_type": "execute_result",
          "data": {
            "text/plain": [
              "dict_keys(['Blouses', 'Casual bottoms', 'Chemises', 'Dresses', 'Fine gauge', 'Intimates', 'Jackets', 'Jeans', 'Knits', 'Layering', 'Legwear', 'Lounge', 'Outerwear', 'Pants', 'Shorts', 'Skirts', 'Sleep', 'Sweaters', 'Swim', 'Trend'])"
            ]
          },
          "metadata": {},
          "execution_count": 120
        }
      ]
    },
    {
      "cell_type": "code",
      "source": [
        "data.isna().sum()"
      ],
      "metadata": {
        "colab": {
          "base_uri": "https://localhost:8080/"
        },
        "id": "QFTnkQgZiMY4",
        "outputId": "432d0923-ba17-43dd-ee31-b6b84287fd9b"
      },
      "execution_count": 121,
      "outputs": [
        {
          "output_type": "execute_result",
          "data": {
            "text/plain": [
              "Clothing ID                   0\n",
              "Age                           0\n",
              "Title                      3810\n",
              "Review Text                 845\n",
              "Rating                        0\n",
              "Recommended IND               0\n",
              "Positive_Feedback_Count       0\n",
              "Division Name                14\n",
              "Department Name              14\n",
              "Class Name                   14\n",
              "dtype: int64"
            ]
          },
          "metadata": {},
          "execution_count": 121
        }
      ]
    },
    {
      "cell_type": "code",
      "source": [
        "data.loc[data['Class Name'].isna()]"
      ],
      "metadata": {
        "colab": {
          "base_uri": "https://localhost:8080/",
          "height": 1000
        },
        "id": "JTotOvCUyPGt",
        "outputId": "322dc605-462d-4d67-c71f-3915255a4461"
      },
      "execution_count": 122,
      "outputs": [
        {
          "output_type": "execute_result",
          "data": {
            "text/plain": [
              "       Clothing ID  Age                                  Title  \\\n",
              "9444            72   25                   My favorite socks!!!   \n",
              "13767          492   23                               So soft!   \n",
              "13768          492   49                        Wardrobe staple   \n",
              "13787          492   48                                    NaN   \n",
              "16216          152   36                          Warm and cozy   \n",
              "16221          152   37                                  Love!   \n",
              "16223          152   39                        \"long and warm\"   \n",
              "18626          184   34                  Nubby footless tights   \n",
              "18671          184   54                          New workhorse   \n",
              "20088          772   50                      Comfy sweatshirt!   \n",
              "21532          665   43                           So worth it!   \n",
              "22997          136   47  Charcoal, pale gray, a bit of silver!   \n",
              "23006          136   33                        Cute itsy socks   \n",
              "23011          136   36                            Super socks   \n",
              "\n",
              "                                             Review Text  Rating  \\\n",
              "9444   I never write reviews, but these socks are so ...       5   \n",
              "13767  I just love this hoodie! it is so soft and com...       5   \n",
              "13768  Love this hoodie. so soft and goes with everyt...       5   \n",
              "13787                                                NaN       5   \n",
              "16216  Just what i was looking for. soft, cozy and warm.       5   \n",
              "16221  I am loving these. they are quite long but are...       5   \n",
              "16223  These leg warmers are perfect for me. they are...       5   \n",
              "18626  These are amazing quality. i agree, size up to...       5   \n",
              "18671  These tights are amazing! if i care for them w...       5   \n",
              "20088  This sweatshirt is really nice!  it's oversize...       5   \n",
              "21532  Got these on sale...absolutely love eberjey! f...       5   \n",
              "22997  These socks are soft and comfortable, and they...       5   \n",
              "23006  Love polkadots, love sparkle. these little soc...       5   \n",
              "23011  I love these little socks ? and the dots spark...       5   \n",
              "\n",
              "       Recommended IND  Positive_Feedback_Count Division Name Department Name  \\\n",
              "9444                 1                        0           NaN             NaN   \n",
              "13767                1                        1           NaN             NaN   \n",
              "13768                1                        0           NaN             NaN   \n",
              "13787                1                        0           NaN             NaN   \n",
              "16216                1                        0           NaN             NaN   \n",
              "16221                1                        0           NaN             NaN   \n",
              "16223                1                        0           NaN             NaN   \n",
              "18626                1                        5           NaN             NaN   \n",
              "18671                1                        0           NaN             NaN   \n",
              "20088                1                        0           NaN             NaN   \n",
              "21532                1                        0           NaN             NaN   \n",
              "22997                1                        1           NaN             NaN   \n",
              "23006                1                        0           NaN             NaN   \n",
              "23011                1                        0           NaN             NaN   \n",
              "\n",
              "      Class Name  \n",
              "9444         NaN  \n",
              "13767        NaN  \n",
              "13768        NaN  \n",
              "13787        NaN  \n",
              "16216        NaN  \n",
              "16221        NaN  \n",
              "16223        NaN  \n",
              "18626        NaN  \n",
              "18671        NaN  \n",
              "20088        NaN  \n",
              "21532        NaN  \n",
              "22997        NaN  \n",
              "23006        NaN  \n",
              "23011        NaN  "
            ],
            "text/html": [
              "\n",
              "  <div id=\"df-d7f82c4b-19a2-49a7-a06d-cb55d71b1bc9\">\n",
              "    <div class=\"colab-df-container\">\n",
              "      <div>\n",
              "<style scoped>\n",
              "    .dataframe tbody tr th:only-of-type {\n",
              "        vertical-align: middle;\n",
              "    }\n",
              "\n",
              "    .dataframe tbody tr th {\n",
              "        vertical-align: top;\n",
              "    }\n",
              "\n",
              "    .dataframe thead th {\n",
              "        text-align: right;\n",
              "    }\n",
              "</style>\n",
              "<table border=\"1\" class=\"dataframe\">\n",
              "  <thead>\n",
              "    <tr style=\"text-align: right;\">\n",
              "      <th></th>\n",
              "      <th>Clothing ID</th>\n",
              "      <th>Age</th>\n",
              "      <th>Title</th>\n",
              "      <th>Review Text</th>\n",
              "      <th>Rating</th>\n",
              "      <th>Recommended IND</th>\n",
              "      <th>Positive_Feedback_Count</th>\n",
              "      <th>Division Name</th>\n",
              "      <th>Department Name</th>\n",
              "      <th>Class Name</th>\n",
              "    </tr>\n",
              "  </thead>\n",
              "  <tbody>\n",
              "    <tr>\n",
              "      <th>9444</th>\n",
              "      <td>72</td>\n",
              "      <td>25</td>\n",
              "      <td>My favorite socks!!!</td>\n",
              "      <td>I never write reviews, but these socks are so ...</td>\n",
              "      <td>5</td>\n",
              "      <td>1</td>\n",
              "      <td>0</td>\n",
              "      <td>NaN</td>\n",
              "      <td>NaN</td>\n",
              "      <td>NaN</td>\n",
              "    </tr>\n",
              "    <tr>\n",
              "      <th>13767</th>\n",
              "      <td>492</td>\n",
              "      <td>23</td>\n",
              "      <td>So soft!</td>\n",
              "      <td>I just love this hoodie! it is so soft and com...</td>\n",
              "      <td>5</td>\n",
              "      <td>1</td>\n",
              "      <td>1</td>\n",
              "      <td>NaN</td>\n",
              "      <td>NaN</td>\n",
              "      <td>NaN</td>\n",
              "    </tr>\n",
              "    <tr>\n",
              "      <th>13768</th>\n",
              "      <td>492</td>\n",
              "      <td>49</td>\n",
              "      <td>Wardrobe staple</td>\n",
              "      <td>Love this hoodie. so soft and goes with everyt...</td>\n",
              "      <td>5</td>\n",
              "      <td>1</td>\n",
              "      <td>0</td>\n",
              "      <td>NaN</td>\n",
              "      <td>NaN</td>\n",
              "      <td>NaN</td>\n",
              "    </tr>\n",
              "    <tr>\n",
              "      <th>13787</th>\n",
              "      <td>492</td>\n",
              "      <td>48</td>\n",
              "      <td>NaN</td>\n",
              "      <td>NaN</td>\n",
              "      <td>5</td>\n",
              "      <td>1</td>\n",
              "      <td>0</td>\n",
              "      <td>NaN</td>\n",
              "      <td>NaN</td>\n",
              "      <td>NaN</td>\n",
              "    </tr>\n",
              "    <tr>\n",
              "      <th>16216</th>\n",
              "      <td>152</td>\n",
              "      <td>36</td>\n",
              "      <td>Warm and cozy</td>\n",
              "      <td>Just what i was looking for. soft, cozy and warm.</td>\n",
              "      <td>5</td>\n",
              "      <td>1</td>\n",
              "      <td>0</td>\n",
              "      <td>NaN</td>\n",
              "      <td>NaN</td>\n",
              "      <td>NaN</td>\n",
              "    </tr>\n",
              "    <tr>\n",
              "      <th>16221</th>\n",
              "      <td>152</td>\n",
              "      <td>37</td>\n",
              "      <td>Love!</td>\n",
              "      <td>I am loving these. they are quite long but are...</td>\n",
              "      <td>5</td>\n",
              "      <td>1</td>\n",
              "      <td>0</td>\n",
              "      <td>NaN</td>\n",
              "      <td>NaN</td>\n",
              "      <td>NaN</td>\n",
              "    </tr>\n",
              "    <tr>\n",
              "      <th>16223</th>\n",
              "      <td>152</td>\n",
              "      <td>39</td>\n",
              "      <td>\"long and warm\"</td>\n",
              "      <td>These leg warmers are perfect for me. they are...</td>\n",
              "      <td>5</td>\n",
              "      <td>1</td>\n",
              "      <td>0</td>\n",
              "      <td>NaN</td>\n",
              "      <td>NaN</td>\n",
              "      <td>NaN</td>\n",
              "    </tr>\n",
              "    <tr>\n",
              "      <th>18626</th>\n",
              "      <td>184</td>\n",
              "      <td>34</td>\n",
              "      <td>Nubby footless tights</td>\n",
              "      <td>These are amazing quality. i agree, size up to...</td>\n",
              "      <td>5</td>\n",
              "      <td>1</td>\n",
              "      <td>5</td>\n",
              "      <td>NaN</td>\n",
              "      <td>NaN</td>\n",
              "      <td>NaN</td>\n",
              "    </tr>\n",
              "    <tr>\n",
              "      <th>18671</th>\n",
              "      <td>184</td>\n",
              "      <td>54</td>\n",
              "      <td>New workhorse</td>\n",
              "      <td>These tights are amazing! if i care for them w...</td>\n",
              "      <td>5</td>\n",
              "      <td>1</td>\n",
              "      <td>0</td>\n",
              "      <td>NaN</td>\n",
              "      <td>NaN</td>\n",
              "      <td>NaN</td>\n",
              "    </tr>\n",
              "    <tr>\n",
              "      <th>20088</th>\n",
              "      <td>772</td>\n",
              "      <td>50</td>\n",
              "      <td>Comfy sweatshirt!</td>\n",
              "      <td>This sweatshirt is really nice!  it's oversize...</td>\n",
              "      <td>5</td>\n",
              "      <td>1</td>\n",
              "      <td>0</td>\n",
              "      <td>NaN</td>\n",
              "      <td>NaN</td>\n",
              "      <td>NaN</td>\n",
              "    </tr>\n",
              "    <tr>\n",
              "      <th>21532</th>\n",
              "      <td>665</td>\n",
              "      <td>43</td>\n",
              "      <td>So worth it!</td>\n",
              "      <td>Got these on sale...absolutely love eberjey! f...</td>\n",
              "      <td>5</td>\n",
              "      <td>1</td>\n",
              "      <td>0</td>\n",
              "      <td>NaN</td>\n",
              "      <td>NaN</td>\n",
              "      <td>NaN</td>\n",
              "    </tr>\n",
              "    <tr>\n",
              "      <th>22997</th>\n",
              "      <td>136</td>\n",
              "      <td>47</td>\n",
              "      <td>Charcoal, pale gray, a bit of silver!</td>\n",
              "      <td>These socks are soft and comfortable, and they...</td>\n",
              "      <td>5</td>\n",
              "      <td>1</td>\n",
              "      <td>1</td>\n",
              "      <td>NaN</td>\n",
              "      <td>NaN</td>\n",
              "      <td>NaN</td>\n",
              "    </tr>\n",
              "    <tr>\n",
              "      <th>23006</th>\n",
              "      <td>136</td>\n",
              "      <td>33</td>\n",
              "      <td>Cute itsy socks</td>\n",
              "      <td>Love polkadots, love sparkle. these little soc...</td>\n",
              "      <td>5</td>\n",
              "      <td>1</td>\n",
              "      <td>0</td>\n",
              "      <td>NaN</td>\n",
              "      <td>NaN</td>\n",
              "      <td>NaN</td>\n",
              "    </tr>\n",
              "    <tr>\n",
              "      <th>23011</th>\n",
              "      <td>136</td>\n",
              "      <td>36</td>\n",
              "      <td>Super socks</td>\n",
              "      <td>I love these little socks ? and the dots spark...</td>\n",
              "      <td>5</td>\n",
              "      <td>1</td>\n",
              "      <td>0</td>\n",
              "      <td>NaN</td>\n",
              "      <td>NaN</td>\n",
              "      <td>NaN</td>\n",
              "    </tr>\n",
              "  </tbody>\n",
              "</table>\n",
              "</div>\n",
              "      <button class=\"colab-df-convert\" onclick=\"convertToInteractive('df-d7f82c4b-19a2-49a7-a06d-cb55d71b1bc9')\"\n",
              "              title=\"Convert this dataframe to an interactive table.\"\n",
              "              style=\"display:none;\">\n",
              "        \n",
              "  <svg xmlns=\"http://www.w3.org/2000/svg\" height=\"24px\"viewBox=\"0 0 24 24\"\n",
              "       width=\"24px\">\n",
              "    <path d=\"M0 0h24v24H0V0z\" fill=\"none\"/>\n",
              "    <path d=\"M18.56 5.44l.94 2.06.94-2.06 2.06-.94-2.06-.94-.94-2.06-.94 2.06-2.06.94zm-11 1L8.5 8.5l.94-2.06 2.06-.94-2.06-.94L8.5 2.5l-.94 2.06-2.06.94zm10 10l.94 2.06.94-2.06 2.06-.94-2.06-.94-.94-2.06-.94 2.06-2.06.94z\"/><path d=\"M17.41 7.96l-1.37-1.37c-.4-.4-.92-.59-1.43-.59-.52 0-1.04.2-1.43.59L10.3 9.45l-7.72 7.72c-.78.78-.78 2.05 0 2.83L4 21.41c.39.39.9.59 1.41.59.51 0 1.02-.2 1.41-.59l7.78-7.78 2.81-2.81c.8-.78.8-2.07 0-2.86zM5.41 20L4 18.59l7.72-7.72 1.47 1.35L5.41 20z\"/>\n",
              "  </svg>\n",
              "      </button>\n",
              "      \n",
              "  <style>\n",
              "    .colab-df-container {\n",
              "      display:flex;\n",
              "      flex-wrap:wrap;\n",
              "      gap: 12px;\n",
              "    }\n",
              "\n",
              "    .colab-df-convert {\n",
              "      background-color: #E8F0FE;\n",
              "      border: none;\n",
              "      border-radius: 50%;\n",
              "      cursor: pointer;\n",
              "      display: none;\n",
              "      fill: #1967D2;\n",
              "      height: 32px;\n",
              "      padding: 0 0 0 0;\n",
              "      width: 32px;\n",
              "    }\n",
              "\n",
              "    .colab-df-convert:hover {\n",
              "      background-color: #E2EBFA;\n",
              "      box-shadow: 0px 1px 2px rgba(60, 64, 67, 0.3), 0px 1px 3px 1px rgba(60, 64, 67, 0.15);\n",
              "      fill: #174EA6;\n",
              "    }\n",
              "\n",
              "    [theme=dark] .colab-df-convert {\n",
              "      background-color: #3B4455;\n",
              "      fill: #D2E3FC;\n",
              "    }\n",
              "\n",
              "    [theme=dark] .colab-df-convert:hover {\n",
              "      background-color: #434B5C;\n",
              "      box-shadow: 0px 1px 3px 1px rgba(0, 0, 0, 0.15);\n",
              "      filter: drop-shadow(0px 1px 2px rgba(0, 0, 0, 0.3));\n",
              "      fill: #FFFFFF;\n",
              "    }\n",
              "  </style>\n",
              "\n",
              "      <script>\n",
              "        const buttonEl =\n",
              "          document.querySelector('#df-d7f82c4b-19a2-49a7-a06d-cb55d71b1bc9 button.colab-df-convert');\n",
              "        buttonEl.style.display =\n",
              "          google.colab.kernel.accessAllowed ? 'block' : 'none';\n",
              "\n",
              "        async function convertToInteractive(key) {\n",
              "          const element = document.querySelector('#df-d7f82c4b-19a2-49a7-a06d-cb55d71b1bc9');\n",
              "          const dataTable =\n",
              "            await google.colab.kernel.invokeFunction('convertToInteractive',\n",
              "                                                     [key], {});\n",
              "          if (!dataTable) return;\n",
              "\n",
              "          const docLinkHtml = 'Like what you see? Visit the ' +\n",
              "            '<a target=\"_blank\" href=https://colab.research.google.com/notebooks/data_table.ipynb>data table notebook</a>'\n",
              "            + ' to learn more about interactive tables.';\n",
              "          element.innerHTML = '';\n",
              "          dataTable['output_type'] = 'display_data';\n",
              "          await google.colab.output.renderOutput(dataTable, element);\n",
              "          const docLink = document.createElement('div');\n",
              "          docLink.innerHTML = docLinkHtml;\n",
              "          element.appendChild(docLink);\n",
              "        }\n",
              "      </script>\n",
              "    </div>\n",
              "  </div>\n",
              "  "
            ]
          },
          "metadata": {},
          "execution_count": 122
        }
      ]
    },
    {
      "cell_type": "code",
      "source": [
        "len(aux)"
      ],
      "metadata": {
        "colab": {
          "base_uri": "https://localhost:8080/"
        },
        "id": "DackcsA6yGZv",
        "outputId": "b39363a2-313f-4505-a08c-7c385a134b76"
      },
      "execution_count": 123,
      "outputs": [
        {
          "output_type": "execute_result",
          "data": {
            "text/plain": [
              "22943"
            ]
          },
          "metadata": {},
          "execution_count": 123
        }
      ]
    },
    {
      "cell_type": "code",
      "source": [
        "len(data)"
      ],
      "metadata": {
        "colab": {
          "base_uri": "https://localhost:8080/"
        },
        "id": "eL0bd4j9yFnc",
        "outputId": "c1e22027-a373-4fe2-ae7d-d8b79f739fd4"
      },
      "execution_count": 124,
      "outputs": [
        {
          "output_type": "execute_result",
          "data": {
            "text/plain": [
              "23486"
            ]
          },
          "metadata": {},
          "execution_count": 124
        }
      ]
    },
    {
      "cell_type": "markdown",
      "source": [
        "Encontramos 14 registros que no tienen asociado una prenda de vestir (Class name), departamento (Department Name) ni tipo de prenda (Division Name). Al no ser una cantidad significativa (14 sobre 23 mil) no los vamos a considerar para el analisis."
      ],
      "metadata": {
        "id": "ma0okFZY0alE"
      }
    },
    {
      "cell_type": "code",
      "source": [
        "data.drop(index= data[data['Class Name'].isna()].index, inplace=True)\n",
        "len(data)"
      ],
      "metadata": {
        "colab": {
          "base_uri": "https://localhost:8080/"
        },
        "id": "H7pP_RO51jt2",
        "outputId": "92098dda-29cb-4e39-a6c2-f8f890dfff82"
      },
      "execution_count": 125,
      "outputs": [
        {
          "output_type": "execute_result",
          "data": {
            "text/plain": [
              "23472"
            ]
          },
          "metadata": {},
          "execution_count": 125
        }
      ]
    },
    {
      "cell_type": "markdown",
      "source": [
        "Para los casos en que Title o Review Text son nulos, tampoco los vamos a considerar en el analisis. Si uno de los dos es exclusivamente nulo, reemplazamos el valor NaN con su variante no nula. "
      ],
      "metadata": {
        "id": "_TqRJtn42lma"
      }
    },
    {
      "cell_type": "code",
      "source": [
        "len(data[(data['Title'].isna()) & (data['Review Text'].isna())])"
      ],
      "metadata": {
        "colab": {
          "base_uri": "https://localhost:8080/"
        },
        "id": "0iIdTvUa3FrQ",
        "outputId": "41151d37-7b1c-4421-96f0-824412329bcb"
      },
      "execution_count": 126,
      "outputs": [
        {
          "output_type": "execute_result",
          "data": {
            "text/plain": [
              "843"
            ]
          },
          "metadata": {},
          "execution_count": 126
        }
      ]
    },
    {
      "cell_type": "code",
      "source": [
        "data.drop(index= data[(data['Title'].isna()) & (data['Review Text'].isna())].index, inplace=True)\n",
        "len(data)"
      ],
      "metadata": {
        "colab": {
          "base_uri": "https://localhost:8080/"
        },
        "id": "elzUFde53mSK",
        "outputId": "7adb7533-fea5-4f48-a86b-c4be30656466"
      },
      "execution_count": 127,
      "outputs": [
        {
          "output_type": "execute_result",
          "data": {
            "text/plain": [
              "22629"
            ]
          },
          "metadata": {},
          "execution_count": 127
        }
      ]
    },
    {
      "cell_type": "code",
      "source": [
        "data['Review Text'].fillna(data['Title'], inplace=True)\n",
        "data['Title'].fillna(data['Review Text'], inplace=True)"
      ],
      "metadata": {
        "id": "MlKIcifv44Vc"
      },
      "execution_count": 128,
      "outputs": []
    },
    {
      "cell_type": "code",
      "source": [
        "data.loc[data['Review Text'].str.len().sort_values().index]"
      ],
      "metadata": {
        "colab": {
          "base_uri": "https://localhost:8080/",
          "height": 867
        },
        "id": "WOPPyx5H31ws",
        "outputId": "7039bd8a-2dca-4c40-a846-f1bdfe84c2c2"
      },
      "execution_count": 129,
      "outputs": [
        {
          "output_type": "execute_result",
          "data": {
            "text/plain": [
              "       Clothing ID  Age                            Title  \\\n",
              "7785           820   50      Another beautiful white top   \n",
              "7236           877   41                      Comfy cozy!   \n",
              "8742           952   48         Beautiful unique sweater   \n",
              "859            886   27                     Great style!   \n",
              "15653         1089   29              Perfect bride dress   \n",
              "...            ...  ...                              ...   \n",
              "22010          909   53  Never been more disappointed...   \n",
              "1974          1092   50                  Love this dress   \n",
              "22936         1107   48                         Love it!   \n",
              "19304         1103   91    I don't understand this dress   \n",
              "17597          824   52        Busty? curvy? no problem!   \n",
              "\n",
              "                                             Review Text  Rating  \\\n",
              "7785                                           Great fit       5   \n",
              "7236                                         Comfy cozy!       4   \n",
              "8742                                        I love birds       4   \n",
              "859                                         Great style!       5   \n",
              "15653                                      Fits perfect.       5   \n",
              "...                                                  ...     ...   \n",
              "22010  Retailer consistently provides unique, sophist...       1   \n",
              "1974   One of the things i love most about this dress...       5   \n",
              "22936  I love this cotton weave shift dress. it is su...       5   \n",
              "19304  I have been continually disappointed in retail...       1   \n",
              "17597  I adore this blouse. the colors are vibrant (s...       5   \n",
              "\n",
              "       Recommended IND  Positive_Feedback_Count   Division Name  \\\n",
              "7785                 1                        0  General Petite   \n",
              "7236                 1                        0         General   \n",
              "8742                 1                        0         General   \n",
              "859                  1                        1  General Petite   \n",
              "15653                1                        0         General   \n",
              "...                ...                      ...             ...   \n",
              "22010                0                        5  General Petite   \n",
              "1974                 1                        1  General Petite   \n",
              "22936                1                        1  General Petite   \n",
              "19304                0                        3         General   \n",
              "17597                1                        0  General Petite   \n",
              "\n",
              "      Department Name  Class Name  \n",
              "7785             Tops     Blouses  \n",
              "7236             Tops       Knits  \n",
              "8742             Tops    Sweaters  \n",
              "859              Tops       Knits  \n",
              "15653         Dresses     Dresses  \n",
              "...               ...         ...  \n",
              "22010            Tops  Fine gauge  \n",
              "1974          Dresses     Dresses  \n",
              "22936         Dresses     Dresses  \n",
              "19304         Dresses     Dresses  \n",
              "17597            Tops     Blouses  \n",
              "\n",
              "[22629 rows x 10 columns]"
            ],
            "text/html": [
              "\n",
              "  <div id=\"df-939f5908-9991-4baf-a691-80f13a3c9542\">\n",
              "    <div class=\"colab-df-container\">\n",
              "      <div>\n",
              "<style scoped>\n",
              "    .dataframe tbody tr th:only-of-type {\n",
              "        vertical-align: middle;\n",
              "    }\n",
              "\n",
              "    .dataframe tbody tr th {\n",
              "        vertical-align: top;\n",
              "    }\n",
              "\n",
              "    .dataframe thead th {\n",
              "        text-align: right;\n",
              "    }\n",
              "</style>\n",
              "<table border=\"1\" class=\"dataframe\">\n",
              "  <thead>\n",
              "    <tr style=\"text-align: right;\">\n",
              "      <th></th>\n",
              "      <th>Clothing ID</th>\n",
              "      <th>Age</th>\n",
              "      <th>Title</th>\n",
              "      <th>Review Text</th>\n",
              "      <th>Rating</th>\n",
              "      <th>Recommended IND</th>\n",
              "      <th>Positive_Feedback_Count</th>\n",
              "      <th>Division Name</th>\n",
              "      <th>Department Name</th>\n",
              "      <th>Class Name</th>\n",
              "    </tr>\n",
              "  </thead>\n",
              "  <tbody>\n",
              "    <tr>\n",
              "      <th>7785</th>\n",
              "      <td>820</td>\n",
              "      <td>50</td>\n",
              "      <td>Another beautiful white top</td>\n",
              "      <td>Great fit</td>\n",
              "      <td>5</td>\n",
              "      <td>1</td>\n",
              "      <td>0</td>\n",
              "      <td>General Petite</td>\n",
              "      <td>Tops</td>\n",
              "      <td>Blouses</td>\n",
              "    </tr>\n",
              "    <tr>\n",
              "      <th>7236</th>\n",
              "      <td>877</td>\n",
              "      <td>41</td>\n",
              "      <td>Comfy cozy!</td>\n",
              "      <td>Comfy cozy!</td>\n",
              "      <td>4</td>\n",
              "      <td>1</td>\n",
              "      <td>0</td>\n",
              "      <td>General</td>\n",
              "      <td>Tops</td>\n",
              "      <td>Knits</td>\n",
              "    </tr>\n",
              "    <tr>\n",
              "      <th>8742</th>\n",
              "      <td>952</td>\n",
              "      <td>48</td>\n",
              "      <td>Beautiful unique sweater</td>\n",
              "      <td>I love birds</td>\n",
              "      <td>4</td>\n",
              "      <td>1</td>\n",
              "      <td>0</td>\n",
              "      <td>General</td>\n",
              "      <td>Tops</td>\n",
              "      <td>Sweaters</td>\n",
              "    </tr>\n",
              "    <tr>\n",
              "      <th>859</th>\n",
              "      <td>886</td>\n",
              "      <td>27</td>\n",
              "      <td>Great style!</td>\n",
              "      <td>Great style!</td>\n",
              "      <td>5</td>\n",
              "      <td>1</td>\n",
              "      <td>1</td>\n",
              "      <td>General Petite</td>\n",
              "      <td>Tops</td>\n",
              "      <td>Knits</td>\n",
              "    </tr>\n",
              "    <tr>\n",
              "      <th>15653</th>\n",
              "      <td>1089</td>\n",
              "      <td>29</td>\n",
              "      <td>Perfect bride dress</td>\n",
              "      <td>Fits perfect.</td>\n",
              "      <td>5</td>\n",
              "      <td>1</td>\n",
              "      <td>0</td>\n",
              "      <td>General</td>\n",
              "      <td>Dresses</td>\n",
              "      <td>Dresses</td>\n",
              "    </tr>\n",
              "    <tr>\n",
              "      <th>...</th>\n",
              "      <td>...</td>\n",
              "      <td>...</td>\n",
              "      <td>...</td>\n",
              "      <td>...</td>\n",
              "      <td>...</td>\n",
              "      <td>...</td>\n",
              "      <td>...</td>\n",
              "      <td>...</td>\n",
              "      <td>...</td>\n",
              "      <td>...</td>\n",
              "    </tr>\n",
              "    <tr>\n",
              "      <th>22010</th>\n",
              "      <td>909</td>\n",
              "      <td>53</td>\n",
              "      <td>Never been more disappointed...</td>\n",
              "      <td>Retailer consistently provides unique, sophist...</td>\n",
              "      <td>1</td>\n",
              "      <td>0</td>\n",
              "      <td>5</td>\n",
              "      <td>General Petite</td>\n",
              "      <td>Tops</td>\n",
              "      <td>Fine gauge</td>\n",
              "    </tr>\n",
              "    <tr>\n",
              "      <th>1974</th>\n",
              "      <td>1092</td>\n",
              "      <td>50</td>\n",
              "      <td>Love this dress</td>\n",
              "      <td>One of the things i love most about this dress...</td>\n",
              "      <td>5</td>\n",
              "      <td>1</td>\n",
              "      <td>1</td>\n",
              "      <td>General Petite</td>\n",
              "      <td>Dresses</td>\n",
              "      <td>Dresses</td>\n",
              "    </tr>\n",
              "    <tr>\n",
              "      <th>22936</th>\n",
              "      <td>1107</td>\n",
              "      <td>48</td>\n",
              "      <td>Love it!</td>\n",
              "      <td>I love this cotton weave shift dress. it is su...</td>\n",
              "      <td>5</td>\n",
              "      <td>1</td>\n",
              "      <td>1</td>\n",
              "      <td>General Petite</td>\n",
              "      <td>Dresses</td>\n",
              "      <td>Dresses</td>\n",
              "    </tr>\n",
              "    <tr>\n",
              "      <th>19304</th>\n",
              "      <td>1103</td>\n",
              "      <td>91</td>\n",
              "      <td>I don't understand this dress</td>\n",
              "      <td>I have been continually disappointed in retail...</td>\n",
              "      <td>1</td>\n",
              "      <td>0</td>\n",
              "      <td>3</td>\n",
              "      <td>General</td>\n",
              "      <td>Dresses</td>\n",
              "      <td>Dresses</td>\n",
              "    </tr>\n",
              "    <tr>\n",
              "      <th>17597</th>\n",
              "      <td>824</td>\n",
              "      <td>52</td>\n",
              "      <td>Busty? curvy? no problem!</td>\n",
              "      <td>I adore this blouse. the colors are vibrant (s...</td>\n",
              "      <td>5</td>\n",
              "      <td>1</td>\n",
              "      <td>0</td>\n",
              "      <td>General Petite</td>\n",
              "      <td>Tops</td>\n",
              "      <td>Blouses</td>\n",
              "    </tr>\n",
              "  </tbody>\n",
              "</table>\n",
              "<p>22629 rows × 10 columns</p>\n",
              "</div>\n",
              "      <button class=\"colab-df-convert\" onclick=\"convertToInteractive('df-939f5908-9991-4baf-a691-80f13a3c9542')\"\n",
              "              title=\"Convert this dataframe to an interactive table.\"\n",
              "              style=\"display:none;\">\n",
              "        \n",
              "  <svg xmlns=\"http://www.w3.org/2000/svg\" height=\"24px\"viewBox=\"0 0 24 24\"\n",
              "       width=\"24px\">\n",
              "    <path d=\"M0 0h24v24H0V0z\" fill=\"none\"/>\n",
              "    <path d=\"M18.56 5.44l.94 2.06.94-2.06 2.06-.94-2.06-.94-.94-2.06-.94 2.06-2.06.94zm-11 1L8.5 8.5l.94-2.06 2.06-.94-2.06-.94L8.5 2.5l-.94 2.06-2.06.94zm10 10l.94 2.06.94-2.06 2.06-.94-2.06-.94-.94-2.06-.94 2.06-2.06.94z\"/><path d=\"M17.41 7.96l-1.37-1.37c-.4-.4-.92-.59-1.43-.59-.52 0-1.04.2-1.43.59L10.3 9.45l-7.72 7.72c-.78.78-.78 2.05 0 2.83L4 21.41c.39.39.9.59 1.41.59.51 0 1.02-.2 1.41-.59l7.78-7.78 2.81-2.81c.8-.78.8-2.07 0-2.86zM5.41 20L4 18.59l7.72-7.72 1.47 1.35L5.41 20z\"/>\n",
              "  </svg>\n",
              "      </button>\n",
              "      \n",
              "  <style>\n",
              "    .colab-df-container {\n",
              "      display:flex;\n",
              "      flex-wrap:wrap;\n",
              "      gap: 12px;\n",
              "    }\n",
              "\n",
              "    .colab-df-convert {\n",
              "      background-color: #E8F0FE;\n",
              "      border: none;\n",
              "      border-radius: 50%;\n",
              "      cursor: pointer;\n",
              "      display: none;\n",
              "      fill: #1967D2;\n",
              "      height: 32px;\n",
              "      padding: 0 0 0 0;\n",
              "      width: 32px;\n",
              "    }\n",
              "\n",
              "    .colab-df-convert:hover {\n",
              "      background-color: #E2EBFA;\n",
              "      box-shadow: 0px 1px 2px rgba(60, 64, 67, 0.3), 0px 1px 3px 1px rgba(60, 64, 67, 0.15);\n",
              "      fill: #174EA6;\n",
              "    }\n",
              "\n",
              "    [theme=dark] .colab-df-convert {\n",
              "      background-color: #3B4455;\n",
              "      fill: #D2E3FC;\n",
              "    }\n",
              "\n",
              "    [theme=dark] .colab-df-convert:hover {\n",
              "      background-color: #434B5C;\n",
              "      box-shadow: 0px 1px 3px 1px rgba(0, 0, 0, 0.15);\n",
              "      filter: drop-shadow(0px 1px 2px rgba(0, 0, 0, 0.3));\n",
              "      fill: #FFFFFF;\n",
              "    }\n",
              "  </style>\n",
              "\n",
              "      <script>\n",
              "        const buttonEl =\n",
              "          document.querySelector('#df-939f5908-9991-4baf-a691-80f13a3c9542 button.colab-df-convert');\n",
              "        buttonEl.style.display =\n",
              "          google.colab.kernel.accessAllowed ? 'block' : 'none';\n",
              "\n",
              "        async function convertToInteractive(key) {\n",
              "          const element = document.querySelector('#df-939f5908-9991-4baf-a691-80f13a3c9542');\n",
              "          const dataTable =\n",
              "            await google.colab.kernel.invokeFunction('convertToInteractive',\n",
              "                                                     [key], {});\n",
              "          if (!dataTable) return;\n",
              "\n",
              "          const docLinkHtml = 'Like what you see? Visit the ' +\n",
              "            '<a target=\"_blank\" href=https://colab.research.google.com/notebooks/data_table.ipynb>data table notebook</a>'\n",
              "            + ' to learn more about interactive tables.';\n",
              "          element.innerHTML = '';\n",
              "          dataTable['output_type'] = 'display_data';\n",
              "          await google.colab.output.renderOutput(dataTable, element);\n",
              "          const docLink = document.createElement('div');\n",
              "          docLink.innerHTML = docLinkHtml;\n",
              "          element.appendChild(docLink);\n",
              "        }\n",
              "      </script>\n",
              "    </div>\n",
              "  </div>\n",
              "  "
            ]
          },
          "metadata": {},
          "execution_count": 129
        }
      ]
    },
    {
      "cell_type": "markdown",
      "source": [
        "Observamos que las Review Text son resenias validas para cada prenda, y en donde el Title o el Review Text eran nulos, se reemplazo por su contraparte no nula."
      ],
      "metadata": {
        "id": "_DoJkmZH6Y1b"
      }
    },
    {
      "cell_type": "code",
      "source": [
        "data.loc[data['Title'].str.len().sort_values().index]"
      ],
      "metadata": {
        "colab": {
          "base_uri": "https://localhost:8080/",
          "height": 1000
        },
        "id": "OoNp7E_y6IVh",
        "outputId": "d8194936-a1a6-487b-8192-5ca8c75b0aea"
      },
      "execution_count": 130,
      "outputs": [
        {
          "output_type": "execute_result",
          "data": {
            "text/plain": [
              "       Clothing ID  Age                                              Title  \\\n",
              "15671          862   30                                                 <3   \n",
              "20781         1078   29                                                 Eh   \n",
              "22885          895   33                                                 No   \n",
              "11778         1022   38                                                 Ag   \n",
              "2876           573   34                                                 Ok   \n",
              "...            ...  ...                                                ...   \n",
              "126           1133   71  I read the previous reviews and had hoped that...   \n",
              "13284          936   67  I love this sweater! i was nervous after readi...   \n",
              "9157           907   47  I had been eyeing this sweater since it came i...   \n",
              "13255         1078   30  Beautiful dress; i ended up getting it in both...   \n",
              "12786         1081   27  I saw this dress online and thought it looked ...   \n",
              "\n",
              "                                             Review Text  Rating  \\\n",
              "15671  I ordered this top in rose. (the color is actu...       5   \n",
              "20781  I love the colors of the teal dress, but i wis...       3   \n",
              "22885  Bummer, i loved the lacy bell arms and everyth...       1   \n",
              "11778  Awesome jeans. cute and comfortable! size down...       5   \n",
              "2876   I was so excited to receive this in the mail a...       3   \n",
              "...                                                  ...     ...   \n",
              "126    I read the previous reviews and had hoped that...       4   \n",
              "13284  I love this sweater! i was nervous after readi...       5   \n",
              "9157   I had been eyeing this sweater since it came i...       5   \n",
              "13255  Beautiful dress; i ended up getting it in both...       5   \n",
              "12786  I saw this dress online and thought it looked ...       5   \n",
              "\n",
              "       Recommended IND  Positive_Feedback_Count   Division Name  \\\n",
              "15671                1                        0         General   \n",
              "20781                0                        8  General Petite   \n",
              "22885                0                        2  General Petite   \n",
              "11778                1                        0         General   \n",
              "2876                 0                        4  General Petite   \n",
              "...                ...                      ...             ...   \n",
              "126                  1                        0         General   \n",
              "13284                1                        0  General Petite   \n",
              "9157                 1                        0         General   \n",
              "13255                1                        0         General   \n",
              "12786                1                       56  General Petite   \n",
              "\n",
              "      Department Name  Class Name  \n",
              "15671            Tops       Knits  \n",
              "20781         Dresses     Dresses  \n",
              "22885            Tops  Fine gauge  \n",
              "11778         Bottoms       Jeans  \n",
              "2876            Trend       Trend  \n",
              "...               ...         ...  \n",
              "126           Jackets   Outerwear  \n",
              "13284            Tops    Sweaters  \n",
              "9157             Tops  Fine gauge  \n",
              "13255         Dresses     Dresses  \n",
              "12786         Dresses     Dresses  \n",
              "\n",
              "[22629 rows x 10 columns]"
            ],
            "text/html": [
              "\n",
              "  <div id=\"df-1cd42be6-5c38-464a-8363-303d304260d5\">\n",
              "    <div class=\"colab-df-container\">\n",
              "      <div>\n",
              "<style scoped>\n",
              "    .dataframe tbody tr th:only-of-type {\n",
              "        vertical-align: middle;\n",
              "    }\n",
              "\n",
              "    .dataframe tbody tr th {\n",
              "        vertical-align: top;\n",
              "    }\n",
              "\n",
              "    .dataframe thead th {\n",
              "        text-align: right;\n",
              "    }\n",
              "</style>\n",
              "<table border=\"1\" class=\"dataframe\">\n",
              "  <thead>\n",
              "    <tr style=\"text-align: right;\">\n",
              "      <th></th>\n",
              "      <th>Clothing ID</th>\n",
              "      <th>Age</th>\n",
              "      <th>Title</th>\n",
              "      <th>Review Text</th>\n",
              "      <th>Rating</th>\n",
              "      <th>Recommended IND</th>\n",
              "      <th>Positive_Feedback_Count</th>\n",
              "      <th>Division Name</th>\n",
              "      <th>Department Name</th>\n",
              "      <th>Class Name</th>\n",
              "    </tr>\n",
              "  </thead>\n",
              "  <tbody>\n",
              "    <tr>\n",
              "      <th>15671</th>\n",
              "      <td>862</td>\n",
              "      <td>30</td>\n",
              "      <td>&lt;3</td>\n",
              "      <td>I ordered this top in rose. (the color is actu...</td>\n",
              "      <td>5</td>\n",
              "      <td>1</td>\n",
              "      <td>0</td>\n",
              "      <td>General</td>\n",
              "      <td>Tops</td>\n",
              "      <td>Knits</td>\n",
              "    </tr>\n",
              "    <tr>\n",
              "      <th>20781</th>\n",
              "      <td>1078</td>\n",
              "      <td>29</td>\n",
              "      <td>Eh</td>\n",
              "      <td>I love the colors of the teal dress, but i wis...</td>\n",
              "      <td>3</td>\n",
              "      <td>0</td>\n",
              "      <td>8</td>\n",
              "      <td>General Petite</td>\n",
              "      <td>Dresses</td>\n",
              "      <td>Dresses</td>\n",
              "    </tr>\n",
              "    <tr>\n",
              "      <th>22885</th>\n",
              "      <td>895</td>\n",
              "      <td>33</td>\n",
              "      <td>No</td>\n",
              "      <td>Bummer, i loved the lacy bell arms and everyth...</td>\n",
              "      <td>1</td>\n",
              "      <td>0</td>\n",
              "      <td>2</td>\n",
              "      <td>General Petite</td>\n",
              "      <td>Tops</td>\n",
              "      <td>Fine gauge</td>\n",
              "    </tr>\n",
              "    <tr>\n",
              "      <th>11778</th>\n",
              "      <td>1022</td>\n",
              "      <td>38</td>\n",
              "      <td>Ag</td>\n",
              "      <td>Awesome jeans. cute and comfortable! size down...</td>\n",
              "      <td>5</td>\n",
              "      <td>1</td>\n",
              "      <td>0</td>\n",
              "      <td>General</td>\n",
              "      <td>Bottoms</td>\n",
              "      <td>Jeans</td>\n",
              "    </tr>\n",
              "    <tr>\n",
              "      <th>2876</th>\n",
              "      <td>573</td>\n",
              "      <td>34</td>\n",
              "      <td>Ok</td>\n",
              "      <td>I was so excited to receive this in the mail a...</td>\n",
              "      <td>3</td>\n",
              "      <td>0</td>\n",
              "      <td>4</td>\n",
              "      <td>General Petite</td>\n",
              "      <td>Trend</td>\n",
              "      <td>Trend</td>\n",
              "    </tr>\n",
              "    <tr>\n",
              "      <th>...</th>\n",
              "      <td>...</td>\n",
              "      <td>...</td>\n",
              "      <td>...</td>\n",
              "      <td>...</td>\n",
              "      <td>...</td>\n",
              "      <td>...</td>\n",
              "      <td>...</td>\n",
              "      <td>...</td>\n",
              "      <td>...</td>\n",
              "      <td>...</td>\n",
              "    </tr>\n",
              "    <tr>\n",
              "      <th>126</th>\n",
              "      <td>1133</td>\n",
              "      <td>71</td>\n",
              "      <td>I read the previous reviews and had hoped that...</td>\n",
              "      <td>I read the previous reviews and had hoped that...</td>\n",
              "      <td>4</td>\n",
              "      <td>1</td>\n",
              "      <td>0</td>\n",
              "      <td>General</td>\n",
              "      <td>Jackets</td>\n",
              "      <td>Outerwear</td>\n",
              "    </tr>\n",
              "    <tr>\n",
              "      <th>13284</th>\n",
              "      <td>936</td>\n",
              "      <td>67</td>\n",
              "      <td>I love this sweater! i was nervous after readi...</td>\n",
              "      <td>I love this sweater! i was nervous after readi...</td>\n",
              "      <td>5</td>\n",
              "      <td>1</td>\n",
              "      <td>0</td>\n",
              "      <td>General Petite</td>\n",
              "      <td>Tops</td>\n",
              "      <td>Sweaters</td>\n",
              "    </tr>\n",
              "    <tr>\n",
              "      <th>9157</th>\n",
              "      <td>907</td>\n",
              "      <td>47</td>\n",
              "      <td>I had been eyeing this sweater since it came i...</td>\n",
              "      <td>I had been eyeing this sweater since it came i...</td>\n",
              "      <td>5</td>\n",
              "      <td>1</td>\n",
              "      <td>0</td>\n",
              "      <td>General</td>\n",
              "      <td>Tops</td>\n",
              "      <td>Fine gauge</td>\n",
              "    </tr>\n",
              "    <tr>\n",
              "      <th>13255</th>\n",
              "      <td>1078</td>\n",
              "      <td>30</td>\n",
              "      <td>Beautiful dress; i ended up getting it in both...</td>\n",
              "      <td>Beautiful dress; i ended up getting it in both...</td>\n",
              "      <td>5</td>\n",
              "      <td>1</td>\n",
              "      <td>0</td>\n",
              "      <td>General</td>\n",
              "      <td>Dresses</td>\n",
              "      <td>Dresses</td>\n",
              "    </tr>\n",
              "    <tr>\n",
              "      <th>12786</th>\n",
              "      <td>1081</td>\n",
              "      <td>27</td>\n",
              "      <td>I saw this dress online and thought it looked ...</td>\n",
              "      <td>I saw this dress online and thought it looked ...</td>\n",
              "      <td>5</td>\n",
              "      <td>1</td>\n",
              "      <td>56</td>\n",
              "      <td>General Petite</td>\n",
              "      <td>Dresses</td>\n",
              "      <td>Dresses</td>\n",
              "    </tr>\n",
              "  </tbody>\n",
              "</table>\n",
              "<p>22629 rows × 10 columns</p>\n",
              "</div>\n",
              "      <button class=\"colab-df-convert\" onclick=\"convertToInteractive('df-1cd42be6-5c38-464a-8363-303d304260d5')\"\n",
              "              title=\"Convert this dataframe to an interactive table.\"\n",
              "              style=\"display:none;\">\n",
              "        \n",
              "  <svg xmlns=\"http://www.w3.org/2000/svg\" height=\"24px\"viewBox=\"0 0 24 24\"\n",
              "       width=\"24px\">\n",
              "    <path d=\"M0 0h24v24H0V0z\" fill=\"none\"/>\n",
              "    <path d=\"M18.56 5.44l.94 2.06.94-2.06 2.06-.94-2.06-.94-.94-2.06-.94 2.06-2.06.94zm-11 1L8.5 8.5l.94-2.06 2.06-.94-2.06-.94L8.5 2.5l-.94 2.06-2.06.94zm10 10l.94 2.06.94-2.06 2.06-.94-2.06-.94-.94-2.06-.94 2.06-2.06.94z\"/><path d=\"M17.41 7.96l-1.37-1.37c-.4-.4-.92-.59-1.43-.59-.52 0-1.04.2-1.43.59L10.3 9.45l-7.72 7.72c-.78.78-.78 2.05 0 2.83L4 21.41c.39.39.9.59 1.41.59.51 0 1.02-.2 1.41-.59l7.78-7.78 2.81-2.81c.8-.78.8-2.07 0-2.86zM5.41 20L4 18.59l7.72-7.72 1.47 1.35L5.41 20z\"/>\n",
              "  </svg>\n",
              "      </button>\n",
              "      \n",
              "  <style>\n",
              "    .colab-df-container {\n",
              "      display:flex;\n",
              "      flex-wrap:wrap;\n",
              "      gap: 12px;\n",
              "    }\n",
              "\n",
              "    .colab-df-convert {\n",
              "      background-color: #E8F0FE;\n",
              "      border: none;\n",
              "      border-radius: 50%;\n",
              "      cursor: pointer;\n",
              "      display: none;\n",
              "      fill: #1967D2;\n",
              "      height: 32px;\n",
              "      padding: 0 0 0 0;\n",
              "      width: 32px;\n",
              "    }\n",
              "\n",
              "    .colab-df-convert:hover {\n",
              "      background-color: #E2EBFA;\n",
              "      box-shadow: 0px 1px 2px rgba(60, 64, 67, 0.3), 0px 1px 3px 1px rgba(60, 64, 67, 0.15);\n",
              "      fill: #174EA6;\n",
              "    }\n",
              "\n",
              "    [theme=dark] .colab-df-convert {\n",
              "      background-color: #3B4455;\n",
              "      fill: #D2E3FC;\n",
              "    }\n",
              "\n",
              "    [theme=dark] .colab-df-convert:hover {\n",
              "      background-color: #434B5C;\n",
              "      box-shadow: 0px 1px 3px 1px rgba(0, 0, 0, 0.15);\n",
              "      filter: drop-shadow(0px 1px 2px rgba(0, 0, 0, 0.3));\n",
              "      fill: #FFFFFF;\n",
              "    }\n",
              "  </style>\n",
              "\n",
              "      <script>\n",
              "        const buttonEl =\n",
              "          document.querySelector('#df-1cd42be6-5c38-464a-8363-303d304260d5 button.colab-df-convert');\n",
              "        buttonEl.style.display =\n",
              "          google.colab.kernel.accessAllowed ? 'block' : 'none';\n",
              "\n",
              "        async function convertToInteractive(key) {\n",
              "          const element = document.querySelector('#df-1cd42be6-5c38-464a-8363-303d304260d5');\n",
              "          const dataTable =\n",
              "            await google.colab.kernel.invokeFunction('convertToInteractive',\n",
              "                                                     [key], {});\n",
              "          if (!dataTable) return;\n",
              "\n",
              "          const docLinkHtml = 'Like what you see? Visit the ' +\n",
              "            '<a target=\"_blank\" href=https://colab.research.google.com/notebooks/data_table.ipynb>data table notebook</a>'\n",
              "            + ' to learn more about interactive tables.';\n",
              "          element.innerHTML = '';\n",
              "          dataTable['output_type'] = 'display_data';\n",
              "          await google.colab.output.renderOutput(dataTable, element);\n",
              "          const docLink = document.createElement('div');\n",
              "          docLink.innerHTML = docLinkHtml;\n",
              "          element.appendChild(docLink);\n",
              "        }\n",
              "      </script>\n",
              "    </div>\n",
              "  </div>\n",
              "  "
            ]
          },
          "metadata": {},
          "execution_count": 130
        }
      ]
    },
    {
      "cell_type": "markdown",
      "source": [
        "Observamos tambien que los titulos con pocos caracteres, corresponden a resernias validas para cada prenda."
      ],
      "metadata": {
        "id": "WMdxBMas63ss"
      }
    },
    {
      "cell_type": "code",
      "source": [
        "data['Clothing ID'].value_counts()"
      ],
      "metadata": {
        "colab": {
          "base_uri": "https://localhost:8080/"
        },
        "id": "L6idW3AQ7h96",
        "outputId": "0b28f664-e794-48e4-d761-c186b2636471"
      },
      "execution_count": 131,
      "outputs": [
        {
          "output_type": "execute_result",
          "data": {
            "text/plain": [
              "1078    987\n",
              "862     778\n",
              "1094    735\n",
              "1081    561\n",
              "872     519\n",
              "       ... \n",
              "27        1\n",
              "246       1\n",
              "557       1\n",
              "65        1\n",
              "522       1\n",
              "Name: Clothing ID, Length: 1172, dtype: int64"
            ]
          },
          "metadata": {},
          "execution_count": 131
        }
      ]
    },
    {
      "cell_type": "markdown",
      "source": [
        "#### Construccion de variable objetivo en funcion del Rating"
      ],
      "metadata": {
        "id": "LxCDq67DEqZr"
      }
    },
    {
      "cell_type": "markdown",
      "source": [
        "Construimos la variable a analizar en base al Rating, donde los ratings entre 1-3 van a ser reviews negativas y entre 4-5 reviews positivas. Llamamos a nuestra variable objetivo _Positive_review_ que toma valores 0 (review negativa) y 1 (review positiva)."
      ],
      "metadata": {
        "id": "AXqUtfpwFPeC"
      }
    },
    {
      "cell_type": "code",
      "source": [
        "data['Positive_review'] = data['Rating']\n",
        "data.loc[data['Rating'] < 4, 'Positive_review'] = 0\n",
        "data.loc[data['Rating'] >= 4, 'Positive_review'] = 1\n",
        "\n",
        "data[['Rating', 'Positive_review']]"
      ],
      "metadata": {
        "colab": {
          "base_uri": "https://localhost:8080/",
          "height": 423
        },
        "id": "6fCTdDMJE-S1",
        "outputId": "9fb351b1-94da-4f4a-8e4a-b8bc5bee5320"
      },
      "execution_count": 152,
      "outputs": [
        {
          "output_type": "execute_result",
          "data": {
            "text/plain": [
              "       Rating  Positive_review\n",
              "0           4                1\n",
              "1           5                1\n",
              "2           3                0\n",
              "3           5                1\n",
              "4           5                1\n",
              "...       ...              ...\n",
              "23481       5                1\n",
              "23482       3                0\n",
              "23483       3                0\n",
              "23484       3                0\n",
              "23485       5                1\n",
              "\n",
              "[22629 rows x 2 columns]"
            ],
            "text/html": [
              "\n",
              "  <div id=\"df-e03084af-a6b3-444e-994b-3fc0ce1e9bc9\">\n",
              "    <div class=\"colab-df-container\">\n",
              "      <div>\n",
              "<style scoped>\n",
              "    .dataframe tbody tr th:only-of-type {\n",
              "        vertical-align: middle;\n",
              "    }\n",
              "\n",
              "    .dataframe tbody tr th {\n",
              "        vertical-align: top;\n",
              "    }\n",
              "\n",
              "    .dataframe thead th {\n",
              "        text-align: right;\n",
              "    }\n",
              "</style>\n",
              "<table border=\"1\" class=\"dataframe\">\n",
              "  <thead>\n",
              "    <tr style=\"text-align: right;\">\n",
              "      <th></th>\n",
              "      <th>Rating</th>\n",
              "      <th>Positive_review</th>\n",
              "    </tr>\n",
              "  </thead>\n",
              "  <tbody>\n",
              "    <tr>\n",
              "      <th>0</th>\n",
              "      <td>4</td>\n",
              "      <td>1</td>\n",
              "    </tr>\n",
              "    <tr>\n",
              "      <th>1</th>\n",
              "      <td>5</td>\n",
              "      <td>1</td>\n",
              "    </tr>\n",
              "    <tr>\n",
              "      <th>2</th>\n",
              "      <td>3</td>\n",
              "      <td>0</td>\n",
              "    </tr>\n",
              "    <tr>\n",
              "      <th>3</th>\n",
              "      <td>5</td>\n",
              "      <td>1</td>\n",
              "    </tr>\n",
              "    <tr>\n",
              "      <th>4</th>\n",
              "      <td>5</td>\n",
              "      <td>1</td>\n",
              "    </tr>\n",
              "    <tr>\n",
              "      <th>...</th>\n",
              "      <td>...</td>\n",
              "      <td>...</td>\n",
              "    </tr>\n",
              "    <tr>\n",
              "      <th>23481</th>\n",
              "      <td>5</td>\n",
              "      <td>1</td>\n",
              "    </tr>\n",
              "    <tr>\n",
              "      <th>23482</th>\n",
              "      <td>3</td>\n",
              "      <td>0</td>\n",
              "    </tr>\n",
              "    <tr>\n",
              "      <th>23483</th>\n",
              "      <td>3</td>\n",
              "      <td>0</td>\n",
              "    </tr>\n",
              "    <tr>\n",
              "      <th>23484</th>\n",
              "      <td>3</td>\n",
              "      <td>0</td>\n",
              "    </tr>\n",
              "    <tr>\n",
              "      <th>23485</th>\n",
              "      <td>5</td>\n",
              "      <td>1</td>\n",
              "    </tr>\n",
              "  </tbody>\n",
              "</table>\n",
              "<p>22629 rows × 2 columns</p>\n",
              "</div>\n",
              "      <button class=\"colab-df-convert\" onclick=\"convertToInteractive('df-e03084af-a6b3-444e-994b-3fc0ce1e9bc9')\"\n",
              "              title=\"Convert this dataframe to an interactive table.\"\n",
              "              style=\"display:none;\">\n",
              "        \n",
              "  <svg xmlns=\"http://www.w3.org/2000/svg\" height=\"24px\"viewBox=\"0 0 24 24\"\n",
              "       width=\"24px\">\n",
              "    <path d=\"M0 0h24v24H0V0z\" fill=\"none\"/>\n",
              "    <path d=\"M18.56 5.44l.94 2.06.94-2.06 2.06-.94-2.06-.94-.94-2.06-.94 2.06-2.06.94zm-11 1L8.5 8.5l.94-2.06 2.06-.94-2.06-.94L8.5 2.5l-.94 2.06-2.06.94zm10 10l.94 2.06.94-2.06 2.06-.94-2.06-.94-.94-2.06-.94 2.06-2.06.94z\"/><path d=\"M17.41 7.96l-1.37-1.37c-.4-.4-.92-.59-1.43-.59-.52 0-1.04.2-1.43.59L10.3 9.45l-7.72 7.72c-.78.78-.78 2.05 0 2.83L4 21.41c.39.39.9.59 1.41.59.51 0 1.02-.2 1.41-.59l7.78-7.78 2.81-2.81c.8-.78.8-2.07 0-2.86zM5.41 20L4 18.59l7.72-7.72 1.47 1.35L5.41 20z\"/>\n",
              "  </svg>\n",
              "      </button>\n",
              "      \n",
              "  <style>\n",
              "    .colab-df-container {\n",
              "      display:flex;\n",
              "      flex-wrap:wrap;\n",
              "      gap: 12px;\n",
              "    }\n",
              "\n",
              "    .colab-df-convert {\n",
              "      background-color: #E8F0FE;\n",
              "      border: none;\n",
              "      border-radius: 50%;\n",
              "      cursor: pointer;\n",
              "      display: none;\n",
              "      fill: #1967D2;\n",
              "      height: 32px;\n",
              "      padding: 0 0 0 0;\n",
              "      width: 32px;\n",
              "    }\n",
              "\n",
              "    .colab-df-convert:hover {\n",
              "      background-color: #E2EBFA;\n",
              "      box-shadow: 0px 1px 2px rgba(60, 64, 67, 0.3), 0px 1px 3px 1px rgba(60, 64, 67, 0.15);\n",
              "      fill: #174EA6;\n",
              "    }\n",
              "\n",
              "    [theme=dark] .colab-df-convert {\n",
              "      background-color: #3B4455;\n",
              "      fill: #D2E3FC;\n",
              "    }\n",
              "\n",
              "    [theme=dark] .colab-df-convert:hover {\n",
              "      background-color: #434B5C;\n",
              "      box-shadow: 0px 1px 3px 1px rgba(0, 0, 0, 0.15);\n",
              "      filter: drop-shadow(0px 1px 2px rgba(0, 0, 0, 0.3));\n",
              "      fill: #FFFFFF;\n",
              "    }\n",
              "  </style>\n",
              "\n",
              "      <script>\n",
              "        const buttonEl =\n",
              "          document.querySelector('#df-e03084af-a6b3-444e-994b-3fc0ce1e9bc9 button.colab-df-convert');\n",
              "        buttonEl.style.display =\n",
              "          google.colab.kernel.accessAllowed ? 'block' : 'none';\n",
              "\n",
              "        async function convertToInteractive(key) {\n",
              "          const element = document.querySelector('#df-e03084af-a6b3-444e-994b-3fc0ce1e9bc9');\n",
              "          const dataTable =\n",
              "            await google.colab.kernel.invokeFunction('convertToInteractive',\n",
              "                                                     [key], {});\n",
              "          if (!dataTable) return;\n",
              "\n",
              "          const docLinkHtml = 'Like what you see? Visit the ' +\n",
              "            '<a target=\"_blank\" href=https://colab.research.google.com/notebooks/data_table.ipynb>data table notebook</a>'\n",
              "            + ' to learn more about interactive tables.';\n",
              "          element.innerHTML = '';\n",
              "          dataTable['output_type'] = 'display_data';\n",
              "          await google.colab.output.renderOutput(dataTable, element);\n",
              "          const docLink = document.createElement('div');\n",
              "          docLink.innerHTML = docLinkHtml;\n",
              "          element.appendChild(docLink);\n",
              "        }\n",
              "      </script>\n",
              "    </div>\n",
              "  </div>\n",
              "  "
            ]
          },
          "metadata": {},
          "execution_count": 152
        }
      ]
    },
    {
      "cell_type": "code",
      "source": [
        "data.value_counts(['Positive_review'])"
      ],
      "metadata": {
        "colab": {
          "base_uri": "https://localhost:8080/"
        },
        "id": "n9Jc2jDbI50G",
        "outputId": "8a42b08a-afcb-4f15-eaff-d6ec77dfc7ce"
      },
      "execution_count": 153,
      "outputs": [
        {
          "output_type": "execute_result",
          "data": {
            "text/plain": [
              "Positive_review\n",
              "1                  17436\n",
              "0                   5193\n",
              "dtype: int64"
            ]
          },
          "metadata": {},
          "execution_count": 153
        }
      ]
    },
    {
      "cell_type": "markdown",
      "source": [
        "### 2. Generación y evaluación de modelos \n",
        "\n",
        "a. Dividir el conjunto de datos en un 70-30, en donde el 70% de los datos se utilizarán para\n",
        "entrenar el modelo y el 30% restante para validarlo. \n",
        "\n",
        "b. Entrenar los siguientes algoritmos tal que a partir del texto en el campo “Review Text”, pueda clasificar correctamente la crítica como positiva o negativa.\n",
        " * Naive Bayes\n",
        " * Regresión logística\n",
        " * Árboles de decisión\n",
        " * Random Forest  \n",
        "\n",
        "c. Evaluar todos los clasificadores utilizando las métricas, precisión, recall y F1-Score.\n",
        "\n",
        "d. Seleccionar el modelo con mejor desempeño y evaluarlo utilizando las 5 clases del\n",
        "atributo Rating en lugar de la clase binaria"
      ],
      "metadata": {
        "id": "3kCX6BX98njW"
      }
    },
    {
      "cell_type": "markdown",
      "source": [
        "#### Generacion de conjunto de prueba y conjunto de entrenamiento"
      ],
      "metadata": {
        "id": "4DK81vXWIEZ5"
      }
    },
    {
      "cell_type": "markdown",
      "source": [
        "Separamos el dataset original en dos subsets, donde uno representa el 70% de los registros que van a ser utilizados para entrenar el modelo y el otro 30% restante se utilizara para prueba."
      ],
      "metadata": {
        "id": "NBXVTA-bIRYj"
      }
    },
    {
      "cell_type": "code",
      "source": [
        "from sklearn.model_selection import train_test_split\n",
        "\n",
        "data_cpy = data.copy()\n",
        "data_cpy.rename(columns={'Review Text':'Review_Text'}, inplace=True)\n",
        "\n",
        "X_train, X_test, y_train, y_test = train_test_split(data_cpy.Review_Text, data_cpy.Positive_review, test_size=0.30, random_state=25, shuffle=True)\n"
      ],
      "metadata": {
        "id": "a2iV-PcyXclh"
      },
      "execution_count": 177,
      "outputs": []
    },
    {
      "cell_type": "code",
      "source": [
        "y_train.value_counts()"
      ],
      "metadata": {
        "colab": {
          "base_uri": "https://localhost:8080/"
        },
        "id": "2UcTVv1CLPY9",
        "outputId": "92c4e3aa-d3d4-44f9-afbb-5e4abed12dea"
      },
      "execution_count": 178,
      "outputs": [
        {
          "output_type": "execute_result",
          "data": {
            "text/plain": [
              "1    12241\n",
              "0     3599\n",
              "Name: Positive_review, dtype: int64"
            ]
          },
          "metadata": {},
          "execution_count": 178
        }
      ]
    },
    {
      "cell_type": "code",
      "source": [
        "y_test.value_counts()"
      ],
      "metadata": {
        "colab": {
          "base_uri": "https://localhost:8080/"
        },
        "id": "wBHkBGDgLnr_",
        "outputId": "e5901c68-b947-4aa3-e079-cc36e83fda29"
      },
      "execution_count": 179,
      "outputs": [
        {
          "output_type": "execute_result",
          "data": {
            "text/plain": [
              "1    5195\n",
              "0    1594\n",
              "Name: Positive_review, dtype: int64"
            ]
          },
          "metadata": {},
          "execution_count": 179
        }
      ]
    },
    {
      "cell_type": "markdown",
      "source": [
        "#### Generacion de modelos"
      ],
      "metadata": {
        "id": "p1-0PFYyO6wL"
      }
    },
    {
      "cell_type": "markdown",
      "source": [
        "A continuacion generamos los siguientes modelos:\n",
        "\n",
        "\n",
        "\n",
        " * Naive Bayes\n",
        " * Regresión logística\n",
        " * Árboles de decisión\n",
        " * Random Forest  \n",
        "\n"
      ],
      "metadata": {
        "id": "JwmPT98jPEgF"
      }
    },
    {
      "cell_type": "markdown",
      "source": [
        "##### Naive bayes"
      ],
      "metadata": {
        "id": "xwuw1jbsO_1U"
      }
    },
    {
      "cell_type": "code",
      "source": [
        "from sklearn.feature_extraction.text import CountVectorizer\n",
        "from sklearn.feature_extraction.text import TfidfTransformer\n",
        "from sklearn.feature_extraction.text import TfidfVectorizer\n",
        "from sklearn.naive_bayes import MultinomialNB\n",
        "from sklearn.pipeline import make_pipeline\n",
        "from sklearn.metrics import confusion_matrix, accuracy_score, recall_score, f1_score\n",
        "\n",
        "vectorizer = CountVectorizer()\n",
        "X = vectorizer.fit_transform(X_train)\n",
        "corpus = vectorizer.get_feature_names_out()\n",
        "\n",
        "transformer = TfidfTransformer(smooth_idf=True)\n",
        "transformer.fit_transform(X.toarray()).toarray()\n",
        "\n",
        "vectorizer = TfidfVectorizer()\n",
        "vectorizer.fit_transform(corpus)\n",
        "\n",
        "#Usando el make_pipeline, creamos un modelo que\n",
        "# automáticamente aplica TfidfVectorizer y luego lo pasa a Bayes.\n",
        "# Entonces este modelo “es como si” trabajase directamente con el\n",
        "# texto en lenguaje natural.\n",
        "\n",
        "model = make_pipeline(TfidfVectorizer(), MultinomialNB())\n",
        "\n",
        "#Entrenamos el modelo\n",
        "model.fit(X_train, y_train)\n",
        "\n",
        "#hacemos predicciones en el conjunto de prueba\n",
        "predicted_categories = model.predict(X_test)\n",
        "\n",
        "print(\"La precision es {}\".format(accuracy_score(y_test,\n",
        "predicted_categories)))\n",
        "\n",
        "print(\"El recall es {}\".format(recall_score(y_test,\n",
        "predicted_categories)))\n",
        "\n",
        "print(\"F1 es {}\".format(f1_score(y_test,\n",
        "predicted_categories)))\n"
      ],
      "metadata": {
        "colab": {
          "base_uri": "https://localhost:8080/"
        },
        "id": "kGXCzzvuO-Tp",
        "outputId": "74d79574-2e38-4010-8685-691a87b167f3"
      },
      "execution_count": 181,
      "outputs": [
        {
          "output_type": "stream",
          "name": "stdout",
          "text": [
            "La precision es 0.7775813816467816\n",
            "El recall es 0.9994225216554379\n",
            "F1 es 0.873045232890533\n"
          ]
        }
      ]
    },
    {
      "cell_type": "markdown",
      "source": [
        "### 3. Conclusiones\n",
        "Extraer conclusiones a partir de los análisis realizados en los puntos anteriores, y\n",
        "justificar cada conclusión."
      ],
      "metadata": {
        "id": "o9zHBMsn8rPb"
      }
    },
    {
      "cell_type": "markdown",
      "source": [
        "**Naive bayes**\n",
        "\n",
        "La precision es 0.7775813816467816  \n",
        "El recall es 0.9994225216554379  \n",
        "F1 es 0.873045232890533  "
      ],
      "metadata": {
        "id": "LjY7szVDYUjB"
      }
    }
  ]
}